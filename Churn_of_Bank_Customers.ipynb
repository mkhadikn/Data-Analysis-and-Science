{
 "cells": [
  {
   "cell_type": "markdown",
   "metadata": {},
   "source": [
    "## **PROBLEM**"
   ]
  },
  {
   "cell_type": "markdown",
   "metadata": {},
   "source": [
    " It is much more expensive to sign in a new client than keeping an existing one. It is advantageous for banks to know what leads a client towards the decision to leave the company. Churn prevention allows companies to develop loyalty programs and retention campaigns to keep as many customers as possible."
   ]
  },
  {
   "cell_type": "markdown",
   "metadata": {},
   "source": [
    "## **OBJECTIVE**"
   ]
  },
  {
   "cell_type": "markdown",
   "metadata": {},
   "source": [
    "Create a model to predict which clients will leave the bank."
   ]
  },
  {
   "cell_type": "markdown",
   "metadata": {},
   "source": [
    "## **CONTENT**"
   ]
  },
  {
   "cell_type": "markdown",
   "metadata": {},
   "source": [
    "**RowNumber**—corresponds to the record (row) number and has no effect on the output\\\n",
    "**CustomerId**—contains random values and has no effect on customer leaving the bank\\\n",
    "**Surname**—the surname of a customer has no impact on their decision to leave the bank\\\n",
    "**CreditScore**—can have an effect on customer churn, since a customer with a higher credit score is less likely to leave the bank\\\n",
    "**Geography**—a customer’s location can affect their decision to leave the bank\\\n",
    "**Gender**—it’s interesting to explore whether gender plays a role in a customer leaving the bank\\\n",
    "**Age**—this is certainly relevant, since older customers are less likely to leave their bank than younger ones\\\n",
    "**Tenure**—refers to the number of years that the customer has been a client of the bank. Normally, older clients are more loyal and less likely to leave a bank\\\n",
    "**Balance**—also a very good indicator of customer churn, as people with a higher balance in their accounts are less likely to leave the bank compared to those with lower balances\\\n",
    "**NumOfProducts**—refers to the number of products that a customer has purchased through the bank\\\n",
    "**HasCrCard**—denotes whether or not a customer has a credit card. This column is also relevant, since people with a credit card are less likely to leave the bank\\\n",
    "**IsActiveMember**—active customers are less likely to leave the bank\\\n",
    "**EstimatedSalary**—as with balance, people with lower salaries are more likely to leave the bank compared to those with higher salaries\\\n",
    "**Exited**—whether or not the customer left the bank\\\n"
   ]
  },
  {
   "cell_type": "markdown",
   "metadata": {},
   "source": [
    "## **IMPORT PACKAGE**"
   ]
  },
  {
   "cell_type": "code",
   "execution_count": 2,
   "metadata": {},
   "outputs": [
    {
     "name": "stderr",
     "output_type": "stream",
     "text": [
      "C:\\Users\\muham\\AppData\\Local\\Temp\\ipykernel_12620\\2936574223.py:1: DeprecationWarning: \n",
      "Pyarrow will become a required dependency of pandas in the next major release of pandas (pandas 3.0),\n",
      "(to allow more performant data types, such as the Arrow string type, and better interoperability with other libraries)\n",
      "but was not found to be installed on your system.\n",
      "If this would cause problems for you,\n",
      "please provide us feedback at https://github.com/pandas-dev/pandas/issues/54466\n",
      "        \n",
      "  import pandas as pd\n"
     ]
    }
   ],
   "source": [
    "import pandas as pd\n",
    "import numpy as np\n",
    "import matplotlib.pyplot as plt\n",
    "import seaborn as sns\n",
    "import time\n",
    "from sklearn.linear_model import LogisticRegression, LogisticRegressionCV\n",
    "from sklearn.model_selection import GridSearchCV\n",
    "from xgboost import XGBClassifier\n",
    "from sklearn.metrics import confusion_matrix, classification_report, make_scorer,accuracy_score,precision_score,recall_score,f1_score\n",
    "from sklearn.ensemble import RandomForestClassifier\n",
    "from sklearn import metrics\n",
    "from jcopml.feature_importance import mean_score_decrease"
   ]
  },
  {
   "cell_type": "code",
   "execution_count": 3,
   "metadata": {},
   "outputs": [],
   "source": [
    "pd.set_option('display.max_columns', None)"
   ]
  },
  {
   "cell_type": "markdown",
   "metadata": {},
   "source": [
    "## **DATA**"
   ]
  },
  {
   "cell_type": "code",
   "execution_count": 4,
   "metadata": {},
   "outputs": [
    {
     "data": {
      "text/html": [
       "<div>\n",
       "<style scoped>\n",
       "    .dataframe tbody tr th:only-of-type {\n",
       "        vertical-align: middle;\n",
       "    }\n",
       "\n",
       "    .dataframe tbody tr th {\n",
       "        vertical-align: top;\n",
       "    }\n",
       "\n",
       "    .dataframe thead th {\n",
       "        text-align: right;\n",
       "    }\n",
       "</style>\n",
       "<table border=\"1\" class=\"dataframe\">\n",
       "  <thead>\n",
       "    <tr style=\"text-align: right;\">\n",
       "      <th></th>\n",
       "      <th>RowNumber</th>\n",
       "      <th>CustomerId</th>\n",
       "      <th>Surname</th>\n",
       "      <th>CreditScore</th>\n",
       "      <th>Geography</th>\n",
       "      <th>Gender</th>\n",
       "      <th>Age</th>\n",
       "      <th>Tenure</th>\n",
       "      <th>Balance</th>\n",
       "      <th>NumOfProducts</th>\n",
       "      <th>HasCrCard</th>\n",
       "      <th>IsActiveMember</th>\n",
       "      <th>EstimatedSalary</th>\n",
       "      <th>Exited</th>\n",
       "    </tr>\n",
       "  </thead>\n",
       "  <tbody>\n",
       "    <tr>\n",
       "      <th>0</th>\n",
       "      <td>1</td>\n",
       "      <td>15634602</td>\n",
       "      <td>Hargrave</td>\n",
       "      <td>619</td>\n",
       "      <td>France</td>\n",
       "      <td>Female</td>\n",
       "      <td>42</td>\n",
       "      <td>2</td>\n",
       "      <td>0.00</td>\n",
       "      <td>1</td>\n",
       "      <td>1</td>\n",
       "      <td>1</td>\n",
       "      <td>101348.88</td>\n",
       "      <td>1</td>\n",
       "    </tr>\n",
       "    <tr>\n",
       "      <th>1</th>\n",
       "      <td>2</td>\n",
       "      <td>15647311</td>\n",
       "      <td>Hill</td>\n",
       "      <td>608</td>\n",
       "      <td>Spain</td>\n",
       "      <td>Female</td>\n",
       "      <td>41</td>\n",
       "      <td>1</td>\n",
       "      <td>83807.86</td>\n",
       "      <td>1</td>\n",
       "      <td>0</td>\n",
       "      <td>1</td>\n",
       "      <td>112542.58</td>\n",
       "      <td>0</td>\n",
       "    </tr>\n",
       "    <tr>\n",
       "      <th>2</th>\n",
       "      <td>3</td>\n",
       "      <td>15619304</td>\n",
       "      <td>Onio</td>\n",
       "      <td>502</td>\n",
       "      <td>France</td>\n",
       "      <td>Female</td>\n",
       "      <td>42</td>\n",
       "      <td>8</td>\n",
       "      <td>159660.80</td>\n",
       "      <td>3</td>\n",
       "      <td>1</td>\n",
       "      <td>0</td>\n",
       "      <td>113931.57</td>\n",
       "      <td>1</td>\n",
       "    </tr>\n",
       "    <tr>\n",
       "      <th>3</th>\n",
       "      <td>4</td>\n",
       "      <td>15701354</td>\n",
       "      <td>Boni</td>\n",
       "      <td>699</td>\n",
       "      <td>France</td>\n",
       "      <td>Female</td>\n",
       "      <td>39</td>\n",
       "      <td>1</td>\n",
       "      <td>0.00</td>\n",
       "      <td>2</td>\n",
       "      <td>0</td>\n",
       "      <td>0</td>\n",
       "      <td>93826.63</td>\n",
       "      <td>0</td>\n",
       "    </tr>\n",
       "    <tr>\n",
       "      <th>4</th>\n",
       "      <td>5</td>\n",
       "      <td>15737888</td>\n",
       "      <td>Mitchell</td>\n",
       "      <td>850</td>\n",
       "      <td>Spain</td>\n",
       "      <td>Female</td>\n",
       "      <td>43</td>\n",
       "      <td>2</td>\n",
       "      <td>125510.82</td>\n",
       "      <td>1</td>\n",
       "      <td>1</td>\n",
       "      <td>1</td>\n",
       "      <td>79084.10</td>\n",
       "      <td>0</td>\n",
       "    </tr>\n",
       "  </tbody>\n",
       "</table>\n",
       "</div>"
      ],
      "text/plain": [
       "   RowNumber  CustomerId   Surname  CreditScore Geography  Gender  Age  \\\n",
       "0          1    15634602  Hargrave          619    France  Female   42   \n",
       "1          2    15647311      Hill          608     Spain  Female   41   \n",
       "2          3    15619304      Onio          502    France  Female   42   \n",
       "3          4    15701354      Boni          699    France  Female   39   \n",
       "4          5    15737888  Mitchell          850     Spain  Female   43   \n",
       "\n",
       "   Tenure    Balance  NumOfProducts  HasCrCard  IsActiveMember  \\\n",
       "0       2       0.00              1          1               1   \n",
       "1       1   83807.86              1          0               1   \n",
       "2       8  159660.80              3          1               0   \n",
       "3       1       0.00              2          0               0   \n",
       "4       2  125510.82              1          1               1   \n",
       "\n",
       "   EstimatedSalary  Exited  \n",
       "0        101348.88       1  \n",
       "1        112542.58       0  \n",
       "2        113931.57       1  \n",
       "3         93826.63       0  \n",
       "4         79084.10       0  "
      ]
     },
     "execution_count": 4,
     "metadata": {},
     "output_type": "execute_result"
    }
   ],
   "source": [
    "df = pd.read_csv('churn.csv')\n",
    "df.head()\n"
   ]
  },
  {
   "cell_type": "markdown",
   "metadata": {},
   "source": [
    "## **DATA UNDERSTANDING**"
   ]
  },
  {
   "cell_type": "markdown",
   "metadata": {},
   "source": [
    "Avg Credit Score"
   ]
  },
  {
   "cell_type": "code",
   "execution_count": 5,
   "metadata": {},
   "outputs": [
    {
     "data": {
      "text/html": [
       "<div>\n",
       "<style scoped>\n",
       "    .dataframe tbody tr th:only-of-type {\n",
       "        vertical-align: middle;\n",
       "    }\n",
       "\n",
       "    .dataframe tbody tr th {\n",
       "        vertical-align: top;\n",
       "    }\n",
       "\n",
       "    .dataframe thead th {\n",
       "        text-align: right;\n",
       "    }\n",
       "</style>\n",
       "<table border=\"1\" class=\"dataframe\">\n",
       "  <thead>\n",
       "    <tr style=\"text-align: right;\">\n",
       "      <th></th>\n",
       "      <th>Exited</th>\n",
       "      <th>Avg Credit Score</th>\n",
       "    </tr>\n",
       "  </thead>\n",
       "  <tbody>\n",
       "    <tr>\n",
       "      <th>0</th>\n",
       "      <td>0</td>\n",
       "      <td>651.853196</td>\n",
       "    </tr>\n",
       "    <tr>\n",
       "      <th>1</th>\n",
       "      <td>1</td>\n",
       "      <td>645.351497</td>\n",
       "    </tr>\n",
       "  </tbody>\n",
       "</table>\n",
       "</div>"
      ],
      "text/plain": [
       "   Exited  Avg Credit Score\n",
       "0       0        651.853196\n",
       "1       1        645.351497"
      ]
     },
     "execution_count": 5,
     "metadata": {},
     "output_type": "execute_result"
    }
   ],
   "source": [
    "data1 = pd.DataFrame(\\\n",
    "                     df.groupby(by=[\"Exited\"])[\"CreditScore\"]\\\n",
    "                     .mean()\\\n",
    "                     .reset_index(name='Avg Credit Score'))\n",
    "data1"
   ]
  },
  {
   "cell_type": "markdown",
   "metadata": {},
   "source": [
    "Overal Distribution by Geography"
   ]
  },
  {
   "cell_type": "code",
   "execution_count": 6,
   "metadata": {},
   "outputs": [
    {
     "data": {
      "text/html": [
       "<div>\n",
       "<style scoped>\n",
       "    .dataframe tbody tr th:only-of-type {\n",
       "        vertical-align: middle;\n",
       "    }\n",
       "\n",
       "    .dataframe tbody tr th {\n",
       "        vertical-align: top;\n",
       "    }\n",
       "\n",
       "    .dataframe thead th {\n",
       "        text-align: right;\n",
       "    }\n",
       "</style>\n",
       "<table border=\"1\" class=\"dataframe\">\n",
       "  <thead>\n",
       "    <tr style=\"text-align: right;\">\n",
       "      <th></th>\n",
       "      <th>Geography</th>\n",
       "      <th>Distribution by Geography</th>\n",
       "    </tr>\n",
       "  </thead>\n",
       "  <tbody>\n",
       "    <tr>\n",
       "      <th>0</th>\n",
       "      <td>France</td>\n",
       "      <td>5014</td>\n",
       "    </tr>\n",
       "    <tr>\n",
       "      <th>1</th>\n",
       "      <td>Germany</td>\n",
       "      <td>2509</td>\n",
       "    </tr>\n",
       "    <tr>\n",
       "      <th>2</th>\n",
       "      <td>Spain</td>\n",
       "      <td>2477</td>\n",
       "    </tr>\n",
       "  </tbody>\n",
       "</table>\n",
       "</div>"
      ],
      "text/plain": [
       "  Geography  Distribution by Geography\n",
       "0    France                       5014\n",
       "1   Germany                       2509\n",
       "2     Spain                       2477"
      ]
     },
     "execution_count": 6,
     "metadata": {},
     "output_type": "execute_result"
    }
   ],
   "source": [
    "data2 = pd.DataFrame(\\\n",
    "                     df.groupby(by=[\"Geography\"])[\"CustomerId\"]\\\n",
    "                     .count()\\\n",
    "                     .sort_values(ascending=False)\\\n",
    "                     .reset_index(name='Distribution by Geography'))\n",
    "data2"
   ]
  },
  {
   "cell_type": "markdown",
   "metadata": {},
   "source": [
    "Churn Distribution by Geography"
   ]
  },
  {
   "cell_type": "code",
   "execution_count": 7,
   "metadata": {},
   "outputs": [
    {
     "data": {
      "text/html": [
       "<div>\n",
       "<style scoped>\n",
       "    .dataframe tbody tr th:only-of-type {\n",
       "        vertical-align: middle;\n",
       "    }\n",
       "\n",
       "    .dataframe tbody tr th {\n",
       "        vertical-align: top;\n",
       "    }\n",
       "\n",
       "    .dataframe thead th {\n",
       "        text-align: right;\n",
       "    }\n",
       "</style>\n",
       "<table border=\"1\" class=\"dataframe\">\n",
       "  <thead>\n",
       "    <tr style=\"text-align: right;\">\n",
       "      <th></th>\n",
       "      <th>Geography</th>\n",
       "      <th>Distribution by Geography</th>\n",
       "    </tr>\n",
       "  </thead>\n",
       "  <tbody>\n",
       "    <tr>\n",
       "      <th>0</th>\n",
       "      <td>Germany</td>\n",
       "      <td>814</td>\n",
       "    </tr>\n",
       "    <tr>\n",
       "      <th>1</th>\n",
       "      <td>France</td>\n",
       "      <td>810</td>\n",
       "    </tr>\n",
       "    <tr>\n",
       "      <th>2</th>\n",
       "      <td>Spain</td>\n",
       "      <td>413</td>\n",
       "    </tr>\n",
       "  </tbody>\n",
       "</table>\n",
       "</div>"
      ],
      "text/plain": [
       "  Geography  Distribution by Geography\n",
       "0   Germany                        814\n",
       "1    France                        810\n",
       "2     Spain                        413"
      ]
     },
     "execution_count": 7,
     "metadata": {},
     "output_type": "execute_result"
    }
   ],
   "source": [
    "data3 = pd.DataFrame(\\\n",
    "                     df[df[\"Exited\"]==1].groupby(by=[\"Geography\"])[\"CustomerId\"]\\\n",
    "                     .count()\\\n",
    "                     .sort_values(ascending=False)\\\n",
    "                     .reset_index(name='Distribution by Geography'))\n",
    "data3"
   ]
  },
  {
   "cell_type": "markdown",
   "metadata": {},
   "source": [
    "Overal Distribution by Gender"
   ]
  },
  {
   "cell_type": "code",
   "execution_count": 8,
   "metadata": {},
   "outputs": [
    {
     "data": {
      "text/html": [
       "<div>\n",
       "<style scoped>\n",
       "    .dataframe tbody tr th:only-of-type {\n",
       "        vertical-align: middle;\n",
       "    }\n",
       "\n",
       "    .dataframe tbody tr th {\n",
       "        vertical-align: top;\n",
       "    }\n",
       "\n",
       "    .dataframe thead th {\n",
       "        text-align: right;\n",
       "    }\n",
       "</style>\n",
       "<table border=\"1\" class=\"dataframe\">\n",
       "  <thead>\n",
       "    <tr style=\"text-align: right;\">\n",
       "      <th></th>\n",
       "      <th>Gender</th>\n",
       "      <th>Distribution by Gender</th>\n",
       "    </tr>\n",
       "  </thead>\n",
       "  <tbody>\n",
       "    <tr>\n",
       "      <th>0</th>\n",
       "      <td>Male</td>\n",
       "      <td>5457</td>\n",
       "    </tr>\n",
       "    <tr>\n",
       "      <th>1</th>\n",
       "      <td>Female</td>\n",
       "      <td>4543</td>\n",
       "    </tr>\n",
       "  </tbody>\n",
       "</table>\n",
       "</div>"
      ],
      "text/plain": [
       "   Gender  Distribution by Gender\n",
       "0    Male                    5457\n",
       "1  Female                    4543"
      ]
     },
     "execution_count": 8,
     "metadata": {},
     "output_type": "execute_result"
    }
   ],
   "source": [
    "data4 = pd.DataFrame(\\\n",
    "                     df.groupby(by=[\"Gender\"])[\"CustomerId\"]\\\n",
    "                     .count()\\\n",
    "                     .sort_values(ascending=False)\\\n",
    "                     .reset_index(name='Distribution by Gender'))\n",
    "data4"
   ]
  },
  {
   "cell_type": "markdown",
   "metadata": {},
   "source": [
    "Churn Distribution by Gender"
   ]
  },
  {
   "cell_type": "code",
   "execution_count": 9,
   "metadata": {},
   "outputs": [
    {
     "data": {
      "text/html": [
       "<div>\n",
       "<style scoped>\n",
       "    .dataframe tbody tr th:only-of-type {\n",
       "        vertical-align: middle;\n",
       "    }\n",
       "\n",
       "    .dataframe tbody tr th {\n",
       "        vertical-align: top;\n",
       "    }\n",
       "\n",
       "    .dataframe thead th {\n",
       "        text-align: right;\n",
       "    }\n",
       "</style>\n",
       "<table border=\"1\" class=\"dataframe\">\n",
       "  <thead>\n",
       "    <tr style=\"text-align: right;\">\n",
       "      <th></th>\n",
       "      <th>Gender</th>\n",
       "      <th>Distribution by Gender</th>\n",
       "    </tr>\n",
       "  </thead>\n",
       "  <tbody>\n",
       "    <tr>\n",
       "      <th>0</th>\n",
       "      <td>Female</td>\n",
       "      <td>1139</td>\n",
       "    </tr>\n",
       "    <tr>\n",
       "      <th>1</th>\n",
       "      <td>Male</td>\n",
       "      <td>898</td>\n",
       "    </tr>\n",
       "  </tbody>\n",
       "</table>\n",
       "</div>"
      ],
      "text/plain": [
       "   Gender  Distribution by Gender\n",
       "0  Female                    1139\n",
       "1    Male                     898"
      ]
     },
     "execution_count": 9,
     "metadata": {},
     "output_type": "execute_result"
    }
   ],
   "source": [
    "data5 = pd.DataFrame(\\\n",
    "                     df[df[\"Exited\"]==1].groupby(by=[\"Gender\"])[\"CustomerId\"]\\\n",
    "                     .count()\\\n",
    "                     .sort_values(ascending=False)\\\n",
    "                     .reset_index(name='Distribution by Gender'))\n",
    "data5"
   ]
  },
  {
   "cell_type": "markdown",
   "metadata": {},
   "source": [
    "Overal Distribution by Age"
   ]
  },
  {
   "cell_type": "code",
   "execution_count": 10,
   "metadata": {},
   "outputs": [
    {
     "data": {
      "text/plain": [
       "<Axes: title={'center': 'Overal Distribution by Age'}, xlabel='Age', ylabel='People'>"
      ]
     },
     "execution_count": 10,
     "metadata": {},
     "output_type": "execute_result"
    },
    {
     "data": {
      "image/png": "[encoded data removed]",
      "text/plain": [
       "<Figure size 1500x700 with 1 Axes>"
      ]
     },
     "metadata": {},
     "output_type": "display_data"
    }
   ],
   "source": [
    "data6 = pd.DataFrame(\\\n",
    "                     df.groupby(by=[\"Age\"])[\"CustomerId\"]\\\n",
    "                     .count()\\\n",
    "                     .reset_index(name='Distribution by Age'))\n",
    "\n",
    "data6.sort_values(\\\n",
    "                  by=['Age'], \\\n",
    "                  ascending=True,\\\n",
    "                  inplace=True)\n",
    "\n",
    "\n",
    "data6.plot(x='Age',\n",
    "           y=['Distribution by Age'],\n",
    "           kind='bar',\n",
    "           grid = True,\n",
    "           xlabel = 'Age',\n",
    "           ylabel = 'People',\n",
    "           figsize=(15,7),\n",
    "           rot = 0,\n",
    "           title = 'Overal Distribution by Age',\n",
    "           table = False,\n",
    "           secondary_y = False)"
   ]
  },
  {
   "cell_type": "markdown",
   "metadata": {},
   "source": [
    "Churn Distribution by Age"
   ]
  },
  {
   "cell_type": "code",
   "execution_count": 11,
   "metadata": {},
   "outputs": [
    {
     "data": {
      "text/plain": [
       "<Axes: title={'center': 'Churn Distribution by Age'}, xlabel='Age', ylabel='People'>"
      ]
     },
     "execution_count": 11,
     "metadata": {},
     "output_type": "execute_result"
    },
    {
     "data": {
      "image/png": "[encoded data removed]",
      "text/plain": [
       "<Figure size 1500x700 with 1 Axes>"
      ]
     },
     "metadata": {},
     "output_type": "display_data"
    }
   ],
   "source": [
    "data7 = pd.DataFrame(\\\n",
    "                     df[df[\"Exited\"]==1].groupby(by=[\"Age\"])[\"CustomerId\"]\\\n",
    "                     .count()\\\n",
    "                     .reset_index(name='Distribution by Age'))\n",
    "\n",
    "data7.sort_values(\\\n",
    "                  by=['Age'], \\\n",
    "                  ascending=True,\\\n",
    "                  inplace=True)\n",
    "\n",
    "\n",
    "data7.plot(x='Age',\n",
    "           y=['Distribution by Age'],\n",
    "           kind='bar',\n",
    "           grid = True,\n",
    "           xlabel = 'Age',\n",
    "           ylabel = 'People',\n",
    "           figsize=(15,7),\n",
    "           rot = 0,\n",
    "           title = 'Churn Distribution by Age',\n",
    "           table = False,\n",
    "           secondary_y = False)"
   ]
  },
  {
   "cell_type": "markdown",
   "metadata": {},
   "source": [
    "Avg Tenure"
   ]
  },
  {
   "cell_type": "code",
   "execution_count": 12,
   "metadata": {},
   "outputs": [
    {
     "data": {
      "text/html": [
       "<div>\n",
       "<style scoped>\n",
       "    .dataframe tbody tr th:only-of-type {\n",
       "        vertical-align: middle;\n",
       "    }\n",
       "\n",
       "    .dataframe tbody tr th {\n",
       "        vertical-align: top;\n",
       "    }\n",
       "\n",
       "    .dataframe thead th {\n",
       "        text-align: right;\n",
       "    }\n",
       "</style>\n",
       "<table border=\"1\" class=\"dataframe\">\n",
       "  <thead>\n",
       "    <tr style=\"text-align: right;\">\n",
       "      <th></th>\n",
       "      <th>Exited</th>\n",
       "      <th>Avg Tenure</th>\n",
       "    </tr>\n",
       "  </thead>\n",
       "  <tbody>\n",
       "    <tr>\n",
       "      <th>0</th>\n",
       "      <td>0</td>\n",
       "      <td>5.033279</td>\n",
       "    </tr>\n",
       "    <tr>\n",
       "      <th>1</th>\n",
       "      <td>1</td>\n",
       "      <td>4.932744</td>\n",
       "    </tr>\n",
       "  </tbody>\n",
       "</table>\n",
       "</div>"
      ],
      "text/plain": [
       "   Exited  Avg Tenure\n",
       "0       0    5.033279\n",
       "1       1    4.932744"
      ]
     },
     "execution_count": 12,
     "metadata": {},
     "output_type": "execute_result"
    }
   ],
   "source": [
    "data8 = pd.DataFrame(\\\n",
    "                     df.groupby(by=[\"Exited\"])[\"Tenure\"]\\\n",
    "                     .mean()\\\n",
    "                     .reset_index(name='Avg Tenure'))\n",
    "data8"
   ]
  },
  {
   "cell_type": "markdown",
   "metadata": {},
   "source": [
    "Avg Annual Balance"
   ]
  },
  {
   "cell_type": "code",
   "execution_count": 13,
   "metadata": {},
   "outputs": [
    {
     "data": {
      "text/html": [
       "<div>\n",
       "<style scoped>\n",
       "    .dataframe tbody tr th:only-of-type {\n",
       "        vertical-align: middle;\n",
       "    }\n",
       "\n",
       "    .dataframe tbody tr th {\n",
       "        vertical-align: top;\n",
       "    }\n",
       "\n",
       "    .dataframe thead th {\n",
       "        text-align: right;\n",
       "    }\n",
       "</style>\n",
       "<table border=\"1\" class=\"dataframe\">\n",
       "  <thead>\n",
       "    <tr style=\"text-align: right;\">\n",
       "      <th></th>\n",
       "      <th>Exited</th>\n",
       "      <th>Avg Annual Balance</th>\n",
       "    </tr>\n",
       "  </thead>\n",
       "  <tbody>\n",
       "    <tr>\n",
       "      <th>0</th>\n",
       "      <td>0</td>\n",
       "      <td>72745.296779</td>\n",
       "    </tr>\n",
       "    <tr>\n",
       "      <th>1</th>\n",
       "      <td>1</td>\n",
       "      <td>91108.539337</td>\n",
       "    </tr>\n",
       "  </tbody>\n",
       "</table>\n",
       "</div>"
      ],
      "text/plain": [
       "   Exited  Avg Annual Balance\n",
       "0       0        72745.296779\n",
       "1       1        91108.539337"
      ]
     },
     "execution_count": 13,
     "metadata": {},
     "output_type": "execute_result"
    }
   ],
   "source": [
    "data9 = pd.DataFrame(\\\n",
    "                     df.groupby(by=[\"Exited\"])[\"Balance\"]\\\n",
    "                     .mean()\\\n",
    "                     .reset_index(name='Avg Annual Balance'))\n",
    "data9"
   ]
  },
  {
   "cell_type": "markdown",
   "metadata": {},
   "source": [
    "Avg Product Owned"
   ]
  },
  {
   "cell_type": "code",
   "execution_count": 14,
   "metadata": {},
   "outputs": [
    {
     "data": {
      "text/html": [
       "<div>\n",
       "<style scoped>\n",
       "    .dataframe tbody tr th:only-of-type {\n",
       "        vertical-align: middle;\n",
       "    }\n",
       "\n",
       "    .dataframe tbody tr th {\n",
       "        vertical-align: top;\n",
       "    }\n",
       "\n",
       "    .dataframe thead th {\n",
       "        text-align: right;\n",
       "    }\n",
       "</style>\n",
       "<table border=\"1\" class=\"dataframe\">\n",
       "  <thead>\n",
       "    <tr style=\"text-align: right;\">\n",
       "      <th></th>\n",
       "      <th>Exited</th>\n",
       "      <th>Avg Product Owned</th>\n",
       "    </tr>\n",
       "  </thead>\n",
       "  <tbody>\n",
       "    <tr>\n",
       "      <th>0</th>\n",
       "      <td>0</td>\n",
       "      <td>1.544267</td>\n",
       "    </tr>\n",
       "    <tr>\n",
       "      <th>1</th>\n",
       "      <td>1</td>\n",
       "      <td>1.475209</td>\n",
       "    </tr>\n",
       "  </tbody>\n",
       "</table>\n",
       "</div>"
      ],
      "text/plain": [
       "   Exited  Avg Product Owned\n",
       "0       0           1.544267\n",
       "1       1           1.475209"
      ]
     },
     "execution_count": 14,
     "metadata": {},
     "output_type": "execute_result"
    }
   ],
   "source": [
    "data10 = pd.DataFrame(\\\n",
    "                     df.groupby(by=[\"Exited\"])[\"NumOfProducts\"]\\\n",
    "                     .mean()\\\n",
    "                     .reset_index(name='Avg Product Owned'))\n",
    "data10"
   ]
  },
  {
   "cell_type": "markdown",
   "metadata": {},
   "source": [
    "Overal Distribution by HasCrCard"
   ]
  },
  {
   "cell_type": "code",
   "execution_count": 15,
   "metadata": {},
   "outputs": [
    {
     "data": {
      "text/html": [
       "<div>\n",
       "<style scoped>\n",
       "    .dataframe tbody tr th:only-of-type {\n",
       "        vertical-align: middle;\n",
       "    }\n",
       "\n",
       "    .dataframe tbody tr th {\n",
       "        vertical-align: top;\n",
       "    }\n",
       "\n",
       "    .dataframe thead th {\n",
       "        text-align: right;\n",
       "    }\n",
       "</style>\n",
       "<table border=\"1\" class=\"dataframe\">\n",
       "  <thead>\n",
       "    <tr style=\"text-align: right;\">\n",
       "      <th></th>\n",
       "      <th>HasCrCard</th>\n",
       "      <th>Distribution by HasCrCard</th>\n",
       "    </tr>\n",
       "  </thead>\n",
       "  <tbody>\n",
       "    <tr>\n",
       "      <th>0</th>\n",
       "      <td>1</td>\n",
       "      <td>7055</td>\n",
       "    </tr>\n",
       "    <tr>\n",
       "      <th>1</th>\n",
       "      <td>0</td>\n",
       "      <td>2945</td>\n",
       "    </tr>\n",
       "  </tbody>\n",
       "</table>\n",
       "</div>"
      ],
      "text/plain": [
       "   HasCrCard  Distribution by HasCrCard\n",
       "0          1                       7055\n",
       "1          0                       2945"
      ]
     },
     "execution_count": 15,
     "metadata": {},
     "output_type": "execute_result"
    }
   ],
   "source": [
    "data11 = pd.DataFrame(\\\n",
    "                     df.groupby(by=[\"HasCrCard\"])[\"CustomerId\"]\\\n",
    "                     .count()\\\n",
    "                     .sort_values(ascending=False)\\\n",
    "                     .reset_index(name='Distribution by HasCrCard'))\n",
    "data11"
   ]
  },
  {
   "cell_type": "markdown",
   "metadata": {},
   "source": [
    "Churn Distribution by HasCrCard"
   ]
  },
  {
   "cell_type": "code",
   "execution_count": 16,
   "metadata": {},
   "outputs": [
    {
     "data": {
      "text/html": [
       "<div>\n",
       "<style scoped>\n",
       "    .dataframe tbody tr th:only-of-type {\n",
       "        vertical-align: middle;\n",
       "    }\n",
       "\n",
       "    .dataframe tbody tr th {\n",
       "        vertical-align: top;\n",
       "    }\n",
       "\n",
       "    .dataframe thead th {\n",
       "        text-align: right;\n",
       "    }\n",
       "</style>\n",
       "<table border=\"1\" class=\"dataframe\">\n",
       "  <thead>\n",
       "    <tr style=\"text-align: right;\">\n",
       "      <th></th>\n",
       "      <th>HasCrCard</th>\n",
       "      <th>Distribution by HasCrCard</th>\n",
       "    </tr>\n",
       "  </thead>\n",
       "  <tbody>\n",
       "    <tr>\n",
       "      <th>0</th>\n",
       "      <td>1</td>\n",
       "      <td>1424</td>\n",
       "    </tr>\n",
       "    <tr>\n",
       "      <th>1</th>\n",
       "      <td>0</td>\n",
       "      <td>613</td>\n",
       "    </tr>\n",
       "  </tbody>\n",
       "</table>\n",
       "</div>"
      ],
      "text/plain": [
       "   HasCrCard  Distribution by HasCrCard\n",
       "0          1                       1424\n",
       "1          0                        613"
      ]
     },
     "execution_count": 16,
     "metadata": {},
     "output_type": "execute_result"
    }
   ],
   "source": [
    "data12 = pd.DataFrame(\\\n",
    "                     df[df[\"Exited\"]==1].groupby(by=[\"HasCrCard\"])[\"CustomerId\"]\\\n",
    "                     .count()\\\n",
    "                     .sort_values(ascending=False)\\\n",
    "                     .reset_index(name='Distribution by HasCrCard'))\n",
    "data12"
   ]
  },
  {
   "cell_type": "markdown",
   "metadata": {},
   "source": [
    "Overal Disbtribution by Active Member"
   ]
  },
  {
   "cell_type": "code",
   "execution_count": 17,
   "metadata": {},
   "outputs": [
    {
     "data": {
      "text/html": [
       "<div>\n",
       "<style scoped>\n",
       "    .dataframe tbody tr th:only-of-type {\n",
       "        vertical-align: middle;\n",
       "    }\n",
       "\n",
       "    .dataframe tbody tr th {\n",
       "        vertical-align: top;\n",
       "    }\n",
       "\n",
       "    .dataframe thead th {\n",
       "        text-align: right;\n",
       "    }\n",
       "</style>\n",
       "<table border=\"1\" class=\"dataframe\">\n",
       "  <thead>\n",
       "    <tr style=\"text-align: right;\">\n",
       "      <th></th>\n",
       "      <th>IsActiveMember</th>\n",
       "      <th>Distribution by IsActiveMember</th>\n",
       "    </tr>\n",
       "  </thead>\n",
       "  <tbody>\n",
       "    <tr>\n",
       "      <th>0</th>\n",
       "      <td>1</td>\n",
       "      <td>5151</td>\n",
       "    </tr>\n",
       "    <tr>\n",
       "      <th>1</th>\n",
       "      <td>0</td>\n",
       "      <td>4849</td>\n",
       "    </tr>\n",
       "  </tbody>\n",
       "</table>\n",
       "</div>"
      ],
      "text/plain": [
       "   IsActiveMember  Distribution by IsActiveMember\n",
       "0               1                            5151\n",
       "1               0                            4849"
      ]
     },
     "execution_count": 17,
     "metadata": {},
     "output_type": "execute_result"
    }
   ],
   "source": [
    "data13 = pd.DataFrame(\\\n",
    "                     df.groupby(by=[\"IsActiveMember\"])[\"CustomerId\"]\\\n",
    "                     .count()\\\n",
    "                     .sort_values(ascending=False)\\\n",
    "                     .reset_index(name='Distribution by IsActiveMember'))\n",
    "data13"
   ]
  },
  {
   "cell_type": "markdown",
   "metadata": {},
   "source": [
    "Churn Disbtribution by Active Member"
   ]
  },
  {
   "cell_type": "code",
   "execution_count": 18,
   "metadata": {},
   "outputs": [
    {
     "data": {
      "text/html": [
       "<div>\n",
       "<style scoped>\n",
       "    .dataframe tbody tr th:only-of-type {\n",
       "        vertical-align: middle;\n",
       "    }\n",
       "\n",
       "    .dataframe tbody tr th {\n",
       "        vertical-align: top;\n",
       "    }\n",
       "\n",
       "    .dataframe thead th {\n",
       "        text-align: right;\n",
       "    }\n",
       "</style>\n",
       "<table border=\"1\" class=\"dataframe\">\n",
       "  <thead>\n",
       "    <tr style=\"text-align: right;\">\n",
       "      <th></th>\n",
       "      <th>IsActiveMember</th>\n",
       "      <th>Distribution by IsActiveMember</th>\n",
       "    </tr>\n",
       "  </thead>\n",
       "  <tbody>\n",
       "    <tr>\n",
       "      <th>0</th>\n",
       "      <td>0</td>\n",
       "      <td>1302</td>\n",
       "    </tr>\n",
       "    <tr>\n",
       "      <th>1</th>\n",
       "      <td>1</td>\n",
       "      <td>735</td>\n",
       "    </tr>\n",
       "  </tbody>\n",
       "</table>\n",
       "</div>"
      ],
      "text/plain": [
       "   IsActiveMember  Distribution by IsActiveMember\n",
       "0               0                            1302\n",
       "1               1                             735"
      ]
     },
     "execution_count": 18,
     "metadata": {},
     "output_type": "execute_result"
    }
   ],
   "source": [
    "data14 = pd.DataFrame(\\\n",
    "                     df[df[\"Exited\"]==1].groupby(by=[\"IsActiveMember\"])[\"CustomerId\"]\\\n",
    "                     .count()\\\n",
    "                     .sort_values(ascending=False)\\\n",
    "                     .reset_index(name='Distribution by IsActiveMember'))\n",
    "data14"
   ]
  },
  {
   "cell_type": "markdown",
   "metadata": {},
   "source": [
    "Avg Estimated Salary"
   ]
  },
  {
   "cell_type": "code",
   "execution_count": 19,
   "metadata": {},
   "outputs": [
    {
     "data": {
      "text/html": [
       "<div>\n",
       "<style scoped>\n",
       "    .dataframe tbody tr th:only-of-type {\n",
       "        vertical-align: middle;\n",
       "    }\n",
       "\n",
       "    .dataframe tbody tr th {\n",
       "        vertical-align: top;\n",
       "    }\n",
       "\n",
       "    .dataframe thead th {\n",
       "        text-align: right;\n",
       "    }\n",
       "</style>\n",
       "<table border=\"1\" class=\"dataframe\">\n",
       "  <thead>\n",
       "    <tr style=\"text-align: right;\">\n",
       "      <th></th>\n",
       "      <th>Exited</th>\n",
       "      <th>Avg Estimated Salary</th>\n",
       "    </tr>\n",
       "  </thead>\n",
       "  <tbody>\n",
       "    <tr>\n",
       "      <th>0</th>\n",
       "      <td>0</td>\n",
       "      <td>99738.391772</td>\n",
       "    </tr>\n",
       "    <tr>\n",
       "      <th>1</th>\n",
       "      <td>1</td>\n",
       "      <td>101465.677531</td>\n",
       "    </tr>\n",
       "  </tbody>\n",
       "</table>\n",
       "</div>"
      ],
      "text/plain": [
       "   Exited  Avg Estimated Salary\n",
       "0       0          99738.391772\n",
       "1       1         101465.677531"
      ]
     },
     "execution_count": 19,
     "metadata": {},
     "output_type": "execute_result"
    }
   ],
   "source": [
    "data15 = pd.DataFrame(\\\n",
    "                     df.groupby(by=[\"Exited\"])[\"EstimatedSalary\"]\\\n",
    "                     .mean()\\\n",
    "                     .reset_index(name='Avg Estimated Salary'))\n",
    "data15"
   ]
  },
  {
   "cell_type": "markdown",
   "metadata": {},
   "source": [
    "# **Data Preparation**"
   ]
  },
  {
   "cell_type": "code",
   "execution_count": 20,
   "metadata": {},
   "outputs": [
    {
     "data": {
      "text/plain": [
       "0"
      ]
     },
     "execution_count": 20,
     "metadata": {},
     "output_type": "execute_result"
    }
   ],
   "source": [
    "df.duplicated().sum()"
   ]
  },
  {
   "cell_type": "code",
   "execution_count": 21,
   "metadata": {},
   "outputs": [
    {
     "data": {
      "text/plain": [
       "RowNumber          0\n",
       "CustomerId         0\n",
       "Surname            0\n",
       "CreditScore        0\n",
       "Geography          0\n",
       "Gender             0\n",
       "Age                0\n",
       "Tenure             0\n",
       "Balance            0\n",
       "NumOfProducts      0\n",
       "HasCrCard          0\n",
       "IsActiveMember     0\n",
       "EstimatedSalary    0\n",
       "Exited             0\n",
       "dtype: int64"
      ]
     },
     "execution_count": 21,
     "metadata": {},
     "output_type": "execute_result"
    }
   ],
   "source": [
    "df.isnull().sum()"
   ]
  },
  {
   "cell_type": "code",
   "execution_count": 22,
   "metadata": {},
   "outputs": [],
   "source": [
    "df = df.drop(columns=['Surname', 'RowNumber'])"
   ]
  },
  {
   "cell_type": "markdown",
   "metadata": {},
   "source": [
    "## **Data Transformation**"
   ]
  },
  {
   "cell_type": "code",
   "execution_count": 23,
   "metadata": {},
   "outputs": [
    {
     "data": {
      "text/html": [
       "<div>\n",
       "<style scoped>\n",
       "    .dataframe tbody tr th:only-of-type {\n",
       "        vertical-align: middle;\n",
       "    }\n",
       "\n",
       "    .dataframe tbody tr th {\n",
       "        vertical-align: top;\n",
       "    }\n",
       "\n",
       "    .dataframe thead th {\n",
       "        text-align: right;\n",
       "    }\n",
       "</style>\n",
       "<table border=\"1\" class=\"dataframe\">\n",
       "  <thead>\n",
       "    <tr style=\"text-align: right;\">\n",
       "      <th></th>\n",
       "      <th>Age</th>\n",
       "      <th>Balance</th>\n",
       "      <th>CreditScore</th>\n",
       "      <th>EstimatedSalary</th>\n",
       "      <th>Gender</th>\n",
       "      <th>Geography</th>\n",
       "      <th>HasCrCard</th>\n",
       "      <th>IsActiveMember</th>\n",
       "      <th>NumOfProducts</th>\n",
       "      <th>Tenure</th>\n",
       "    </tr>\n",
       "  </thead>\n",
       "  <tbody>\n",
       "    <tr>\n",
       "      <th>0</th>\n",
       "      <td>42</td>\n",
       "      <td>0.00</td>\n",
       "      <td>619</td>\n",
       "      <td>101348.88</td>\n",
       "      <td>Female</td>\n",
       "      <td>France</td>\n",
       "      <td>1</td>\n",
       "      <td>1</td>\n",
       "      <td>1</td>\n",
       "      <td>2</td>\n",
       "    </tr>\n",
       "    <tr>\n",
       "      <th>1</th>\n",
       "      <td>41</td>\n",
       "      <td>83807.86</td>\n",
       "      <td>608</td>\n",
       "      <td>112542.58</td>\n",
       "      <td>Female</td>\n",
       "      <td>Spain</td>\n",
       "      <td>0</td>\n",
       "      <td>1</td>\n",
       "      <td>1</td>\n",
       "      <td>1</td>\n",
       "    </tr>\n",
       "    <tr>\n",
       "      <th>2</th>\n",
       "      <td>42</td>\n",
       "      <td>159660.80</td>\n",
       "      <td>502</td>\n",
       "      <td>113931.57</td>\n",
       "      <td>Female</td>\n",
       "      <td>France</td>\n",
       "      <td>1</td>\n",
       "      <td>0</td>\n",
       "      <td>3</td>\n",
       "      <td>8</td>\n",
       "    </tr>\n",
       "    <tr>\n",
       "      <th>3</th>\n",
       "      <td>39</td>\n",
       "      <td>0.00</td>\n",
       "      <td>699</td>\n",
       "      <td>93826.63</td>\n",
       "      <td>Female</td>\n",
       "      <td>France</td>\n",
       "      <td>0</td>\n",
       "      <td>0</td>\n",
       "      <td>2</td>\n",
       "      <td>1</td>\n",
       "    </tr>\n",
       "    <tr>\n",
       "      <th>4</th>\n",
       "      <td>43</td>\n",
       "      <td>125510.82</td>\n",
       "      <td>850</td>\n",
       "      <td>79084.10</td>\n",
       "      <td>Female</td>\n",
       "      <td>Spain</td>\n",
       "      <td>1</td>\n",
       "      <td>1</td>\n",
       "      <td>1</td>\n",
       "      <td>2</td>\n",
       "    </tr>\n",
       "  </tbody>\n",
       "</table>\n",
       "</div>"
      ],
      "text/plain": [
       "   Age    Balance  CreditScore  EstimatedSalary  Gender Geography  HasCrCard  \\\n",
       "0   42       0.00          619        101348.88  Female    France          1   \n",
       "1   41   83807.86          608        112542.58  Female     Spain          0   \n",
       "2   42  159660.80          502        113931.57  Female    France          1   \n",
       "3   39       0.00          699         93826.63  Female    France          0   \n",
       "4   43  125510.82          850         79084.10  Female     Spain          1   \n",
       "\n",
       "   IsActiveMember  NumOfProducts  Tenure  \n",
       "0               1              1       2  \n",
       "1               1              1       1  \n",
       "2               0              3       8  \n",
       "3               0              2       1  \n",
       "4               1              1       2  "
      ]
     },
     "execution_count": 23,
     "metadata": {},
     "output_type": "execute_result"
    }
   ],
   "source": [
    "predictor = df[df.columns.difference(['CustomerId', 'Exited'])]\n",
    "predictor.head()"
   ]
  },
  {
   "cell_type": "code",
   "execution_count": 24,
   "metadata": {},
   "outputs": [
    {
     "name": "stdout",
     "output_type": "stream",
     "text": [
      "<class 'pandas.core.frame.DataFrame'>\n",
      "RangeIndex: 10000 entries, 0 to 9999\n",
      "Data columns (total 10 columns):\n",
      " #   Column           Non-Null Count  Dtype  \n",
      "---  ------           --------------  -----  \n",
      " 0   Age              10000 non-null  int64  \n",
      " 1   Balance          10000 non-null  float64\n",
      " 2   CreditScore      10000 non-null  int64  \n",
      " 3   EstimatedSalary  10000 non-null  float64\n",
      " 4   Gender           10000 non-null  object \n",
      " 5   Geography        10000 non-null  object \n",
      " 6   HasCrCard        10000 non-null  int64  \n",
      " 7   IsActiveMember   10000 non-null  int64  \n",
      " 8   NumOfProducts    10000 non-null  int64  \n",
      " 9   Tenure           10000 non-null  int64  \n",
      "dtypes: float64(2), int64(6), object(2)\n",
      "memory usage: 781.4+ KB\n"
     ]
    }
   ],
   "source": [
    "predictor.info()"
   ]
  },
  {
   "cell_type": "code",
   "execution_count": 25,
   "metadata": {},
   "outputs": [
    {
     "data": {
      "text/html": [
       "<div>\n",
       "<style scoped>\n",
       "    .dataframe tbody tr th:only-of-type {\n",
       "        vertical-align: middle;\n",
       "    }\n",
       "\n",
       "    .dataframe tbody tr th {\n",
       "        vertical-align: top;\n",
       "    }\n",
       "\n",
       "    .dataframe thead th {\n",
       "        text-align: right;\n",
       "    }\n",
       "</style>\n",
       "<table border=\"1\" class=\"dataframe\">\n",
       "  <thead>\n",
       "    <tr style=\"text-align: right;\">\n",
       "      <th></th>\n",
       "      <th>Age</th>\n",
       "      <th>Balance</th>\n",
       "      <th>CreditScore</th>\n",
       "      <th>EstimatedSalary</th>\n",
       "      <th>HasCrCard</th>\n",
       "      <th>IsActiveMember</th>\n",
       "      <th>NumOfProducts</th>\n",
       "      <th>Tenure</th>\n",
       "      <th>Gender_Female</th>\n",
       "      <th>Gender_Male</th>\n",
       "      <th>Geography_France</th>\n",
       "      <th>Geography_Germany</th>\n",
       "      <th>Geography_Spain</th>\n",
       "    </tr>\n",
       "  </thead>\n",
       "  <tbody>\n",
       "    <tr>\n",
       "      <th>0</th>\n",
       "      <td>42</td>\n",
       "      <td>0.00</td>\n",
       "      <td>619</td>\n",
       "      <td>101348.88</td>\n",
       "      <td>1</td>\n",
       "      <td>1</td>\n",
       "      <td>1</td>\n",
       "      <td>2</td>\n",
       "      <td>1</td>\n",
       "      <td>0</td>\n",
       "      <td>1</td>\n",
       "      <td>0</td>\n",
       "      <td>0</td>\n",
       "    </tr>\n",
       "    <tr>\n",
       "      <th>1</th>\n",
       "      <td>41</td>\n",
       "      <td>83807.86</td>\n",
       "      <td>608</td>\n",
       "      <td>112542.58</td>\n",
       "      <td>0</td>\n",
       "      <td>1</td>\n",
       "      <td>1</td>\n",
       "      <td>1</td>\n",
       "      <td>1</td>\n",
       "      <td>0</td>\n",
       "      <td>0</td>\n",
       "      <td>0</td>\n",
       "      <td>1</td>\n",
       "    </tr>\n",
       "    <tr>\n",
       "      <th>2</th>\n",
       "      <td>42</td>\n",
       "      <td>159660.80</td>\n",
       "      <td>502</td>\n",
       "      <td>113931.57</td>\n",
       "      <td>1</td>\n",
       "      <td>0</td>\n",
       "      <td>3</td>\n",
       "      <td>8</td>\n",
       "      <td>1</td>\n",
       "      <td>0</td>\n",
       "      <td>1</td>\n",
       "      <td>0</td>\n",
       "      <td>0</td>\n",
       "    </tr>\n",
       "    <tr>\n",
       "      <th>3</th>\n",
       "      <td>39</td>\n",
       "      <td>0.00</td>\n",
       "      <td>699</td>\n",
       "      <td>93826.63</td>\n",
       "      <td>0</td>\n",
       "      <td>0</td>\n",
       "      <td>2</td>\n",
       "      <td>1</td>\n",
       "      <td>1</td>\n",
       "      <td>0</td>\n",
       "      <td>1</td>\n",
       "      <td>0</td>\n",
       "      <td>0</td>\n",
       "    </tr>\n",
       "    <tr>\n",
       "      <th>4</th>\n",
       "      <td>43</td>\n",
       "      <td>125510.82</td>\n",
       "      <td>850</td>\n",
       "      <td>79084.10</td>\n",
       "      <td>1</td>\n",
       "      <td>1</td>\n",
       "      <td>1</td>\n",
       "      <td>2</td>\n",
       "      <td>1</td>\n",
       "      <td>0</td>\n",
       "      <td>0</td>\n",
       "      <td>0</td>\n",
       "      <td>1</td>\n",
       "    </tr>\n",
       "  </tbody>\n",
       "</table>\n",
       "</div>"
      ],
      "text/plain": [
       "   Age    Balance  CreditScore  EstimatedSalary  HasCrCard  IsActiveMember  \\\n",
       "0   42       0.00          619        101348.88          1               1   \n",
       "1   41   83807.86          608        112542.58          0               1   \n",
       "2   42  159660.80          502        113931.57          1               0   \n",
       "3   39       0.00          699         93826.63          0               0   \n",
       "4   43  125510.82          850         79084.10          1               1   \n",
       "\n",
       "   NumOfProducts  Tenure  Gender_Female  Gender_Male  Geography_France  \\\n",
       "0              1       2              1            0                 1   \n",
       "1              1       1              1            0                 0   \n",
       "2              3       8              1            0                 1   \n",
       "3              2       1              1            0                 1   \n",
       "4              1       2              1            0                 0   \n",
       "\n",
       "   Geography_Germany  Geography_Spain  \n",
       "0                  0                0  \n",
       "1                  0                1  \n",
       "2                  0                0  \n",
       "3                  0                0  \n",
       "4                  0                1  "
      ]
     },
     "execution_count": 25,
     "metadata": {},
     "output_type": "execute_result"
    }
   ],
   "source": [
    "predictor = pd.get_dummies(predictor, dtype=int)\n",
    "predictor.head()"
   ]
  },
  {
   "cell_type": "code",
   "execution_count": 26,
   "metadata": {},
   "outputs": [],
   "source": [
    "predictor = predictor.drop(columns=['Gender_Male'])"
   ]
  },
  {
   "cell_type": "code",
   "execution_count": 85,
   "metadata": {},
   "outputs": [],
   "source": [
    "pred_num = predictor.iloc[:, [0,1,2,3,6,7]]\n",
    "pred_cat = predictor.iloc[:, [4,5,8,9,10,11]]\n",
    "num = pred_num.columns"
   ]
  },
  {
   "cell_type": "code",
   "execution_count": 86,
   "metadata": {},
   "outputs": [
    {
     "data": {
      "text/html": [
       "<div>\n",
       "<style scoped>\n",
       "    .dataframe tbody tr th:only-of-type {\n",
       "        vertical-align: middle;\n",
       "    }\n",
       "\n",
       "    .dataframe tbody tr th {\n",
       "        vertical-align: top;\n",
       "    }\n",
       "\n",
       "    .dataframe thead th {\n",
       "        text-align: right;\n",
       "    }\n",
       "</style>\n",
       "<table border=\"1\" class=\"dataframe\">\n",
       "  <thead>\n",
       "    <tr style=\"text-align: right;\">\n",
       "      <th></th>\n",
       "      <th>0</th>\n",
       "      <th>1</th>\n",
       "      <th>2</th>\n",
       "      <th>3</th>\n",
       "      <th>4</th>\n",
       "      <th>5</th>\n",
       "    </tr>\n",
       "  </thead>\n",
       "  <tbody>\n",
       "    <tr>\n",
       "      <th>0</th>\n",
       "      <td>0.293517</td>\n",
       "      <td>-1.225848</td>\n",
       "      <td>-0.326221</td>\n",
       "      <td>0.021886</td>\n",
       "      <td>-0.911583</td>\n",
       "      <td>-1.041760</td>\n",
       "    </tr>\n",
       "    <tr>\n",
       "      <th>1</th>\n",
       "      <td>0.198164</td>\n",
       "      <td>0.117350</td>\n",
       "      <td>-0.440036</td>\n",
       "      <td>0.216534</td>\n",
       "      <td>-0.911583</td>\n",
       "      <td>-1.387538</td>\n",
       "    </tr>\n",
       "    <tr>\n",
       "      <th>2</th>\n",
       "      <td>0.293517</td>\n",
       "      <td>1.333053</td>\n",
       "      <td>-1.536794</td>\n",
       "      <td>0.240687</td>\n",
       "      <td>2.527057</td>\n",
       "      <td>1.032908</td>\n",
       "    </tr>\n",
       "    <tr>\n",
       "      <th>3</th>\n",
       "      <td>0.007457</td>\n",
       "      <td>-1.225848</td>\n",
       "      <td>0.501521</td>\n",
       "      <td>-0.108918</td>\n",
       "      <td>0.807737</td>\n",
       "      <td>-1.387538</td>\n",
       "    </tr>\n",
       "    <tr>\n",
       "      <th>4</th>\n",
       "      <td>0.388871</td>\n",
       "      <td>0.785728</td>\n",
       "      <td>2.063884</td>\n",
       "      <td>-0.365276</td>\n",
       "      <td>-0.911583</td>\n",
       "      <td>-1.041760</td>\n",
       "    </tr>\n",
       "  </tbody>\n",
       "</table>\n",
       "</div>"
      ],
      "text/plain": [
       "          0         1         2         3         4         5\n",
       "0  0.293517 -1.225848 -0.326221  0.021886 -0.911583 -1.041760\n",
       "1  0.198164  0.117350 -0.440036  0.216534 -0.911583 -1.387538\n",
       "2  0.293517  1.333053 -1.536794  0.240687  2.527057  1.032908\n",
       "3  0.007457 -1.225848  0.501521 -0.108918  0.807737 -1.387538\n",
       "4  0.388871  0.785728  2.063884 -0.365276 -0.911583 -1.041760"
      ]
     },
     "execution_count": 86,
     "metadata": {},
     "output_type": "execute_result"
    }
   ],
   "source": [
    "from sklearn.preprocessing import StandardScaler\n",
    "pt = StandardScaler()\n",
    "pred_num = pd.DataFrame(pt.fit_transform(pred_num))\n",
    "pred_num.head()"
   ]
  },
  {
   "cell_type": "code",
   "execution_count": 88,
   "metadata": {},
   "outputs": [
    {
     "data": {
      "text/html": [
       "<div>\n",
       "<style scoped>\n",
       "    .dataframe tbody tr th:only-of-type {\n",
       "        vertical-align: middle;\n",
       "    }\n",
       "\n",
       "    .dataframe tbody tr th {\n",
       "        vertical-align: top;\n",
       "    }\n",
       "\n",
       "    .dataframe thead th {\n",
       "        text-align: right;\n",
       "    }\n",
       "</style>\n",
       "<table border=\"1\" class=\"dataframe\">\n",
       "  <thead>\n",
       "    <tr style=\"text-align: right;\">\n",
       "      <th></th>\n",
       "      <th>Age</th>\n",
       "      <th>Balance</th>\n",
       "      <th>CreditScore</th>\n",
       "      <th>EstimatedSalary</th>\n",
       "      <th>NumOfProducts</th>\n",
       "      <th>Tenure</th>\n",
       "    </tr>\n",
       "  </thead>\n",
       "  <tbody>\n",
       "    <tr>\n",
       "      <th>0</th>\n",
       "      <td>0.293517</td>\n",
       "      <td>-1.225848</td>\n",
       "      <td>-0.326221</td>\n",
       "      <td>0.021886</td>\n",
       "      <td>-0.911583</td>\n",
       "      <td>-1.041760</td>\n",
       "    </tr>\n",
       "    <tr>\n",
       "      <th>1</th>\n",
       "      <td>0.198164</td>\n",
       "      <td>0.117350</td>\n",
       "      <td>-0.440036</td>\n",
       "      <td>0.216534</td>\n",
       "      <td>-0.911583</td>\n",
       "      <td>-1.387538</td>\n",
       "    </tr>\n",
       "    <tr>\n",
       "      <th>2</th>\n",
       "      <td>0.293517</td>\n",
       "      <td>1.333053</td>\n",
       "      <td>-1.536794</td>\n",
       "      <td>0.240687</td>\n",
       "      <td>2.527057</td>\n",
       "      <td>1.032908</td>\n",
       "    </tr>\n",
       "    <tr>\n",
       "      <th>3</th>\n",
       "      <td>0.007457</td>\n",
       "      <td>-1.225848</td>\n",
       "      <td>0.501521</td>\n",
       "      <td>-0.108918</td>\n",
       "      <td>0.807737</td>\n",
       "      <td>-1.387538</td>\n",
       "    </tr>\n",
       "    <tr>\n",
       "      <th>4</th>\n",
       "      <td>0.388871</td>\n",
       "      <td>0.785728</td>\n",
       "      <td>2.063884</td>\n",
       "      <td>-0.365276</td>\n",
       "      <td>-0.911583</td>\n",
       "      <td>-1.041760</td>\n",
       "    </tr>\n",
       "  </tbody>\n",
       "</table>\n",
       "</div>"
      ],
      "text/plain": [
       "        Age   Balance  CreditScore  EstimatedSalary  NumOfProducts    Tenure\n",
       "0  0.293517 -1.225848    -0.326221         0.021886      -0.911583 -1.041760\n",
       "1  0.198164  0.117350    -0.440036         0.216534      -0.911583 -1.387538\n",
       "2  0.293517  1.333053    -1.536794         0.240687       2.527057  1.032908\n",
       "3  0.007457 -1.225848     0.501521        -0.108918       0.807737 -1.387538\n",
       "4  0.388871  0.785728     2.063884        -0.365276      -0.911583 -1.041760"
      ]
     },
     "execution_count": 88,
     "metadata": {},
     "output_type": "execute_result"
    }
   ],
   "source": [
    "pred_num.columns = num\n",
    "pred_num.head()"
   ]
  },
  {
   "cell_type": "code",
   "execution_count": 89,
   "metadata": {},
   "outputs": [
    {
     "data": {
      "text/html": [
       "<div>\n",
       "<style scoped>\n",
       "    .dataframe tbody tr th:only-of-type {\n",
       "        vertical-align: middle;\n",
       "    }\n",
       "\n",
       "    .dataframe tbody tr th {\n",
       "        vertical-align: top;\n",
       "    }\n",
       "\n",
       "    .dataframe thead th {\n",
       "        text-align: right;\n",
       "    }\n",
       "</style>\n",
       "<table border=\"1\" class=\"dataframe\">\n",
       "  <thead>\n",
       "    <tr style=\"text-align: right;\">\n",
       "      <th></th>\n",
       "      <th>Age</th>\n",
       "      <th>Balance</th>\n",
       "      <th>CreditScore</th>\n",
       "      <th>EstimatedSalary</th>\n",
       "      <th>NumOfProducts</th>\n",
       "      <th>Tenure</th>\n",
       "      <th>HasCrCard</th>\n",
       "      <th>IsActiveMember</th>\n",
       "      <th>Gender_Female</th>\n",
       "      <th>Geography_France</th>\n",
       "      <th>Geography_Germany</th>\n",
       "      <th>Geography_Spain</th>\n",
       "    </tr>\n",
       "  </thead>\n",
       "  <tbody>\n",
       "    <tr>\n",
       "      <th>0</th>\n",
       "      <td>0.293517</td>\n",
       "      <td>-1.225848</td>\n",
       "      <td>-0.326221</td>\n",
       "      <td>0.021886</td>\n",
       "      <td>-0.911583</td>\n",
       "      <td>-1.041760</td>\n",
       "      <td>1</td>\n",
       "      <td>1</td>\n",
       "      <td>1</td>\n",
       "      <td>1</td>\n",
       "      <td>0</td>\n",
       "      <td>0</td>\n",
       "    </tr>\n",
       "    <tr>\n",
       "      <th>1</th>\n",
       "      <td>0.198164</td>\n",
       "      <td>0.117350</td>\n",
       "      <td>-0.440036</td>\n",
       "      <td>0.216534</td>\n",
       "      <td>-0.911583</td>\n",
       "      <td>-1.387538</td>\n",
       "      <td>0</td>\n",
       "      <td>1</td>\n",
       "      <td>1</td>\n",
       "      <td>0</td>\n",
       "      <td>0</td>\n",
       "      <td>1</td>\n",
       "    </tr>\n",
       "    <tr>\n",
       "      <th>2</th>\n",
       "      <td>0.293517</td>\n",
       "      <td>1.333053</td>\n",
       "      <td>-1.536794</td>\n",
       "      <td>0.240687</td>\n",
       "      <td>2.527057</td>\n",
       "      <td>1.032908</td>\n",
       "      <td>1</td>\n",
       "      <td>0</td>\n",
       "      <td>1</td>\n",
       "      <td>1</td>\n",
       "      <td>0</td>\n",
       "      <td>0</td>\n",
       "    </tr>\n",
       "    <tr>\n",
       "      <th>3</th>\n",
       "      <td>0.007457</td>\n",
       "      <td>-1.225848</td>\n",
       "      <td>0.501521</td>\n",
       "      <td>-0.108918</td>\n",
       "      <td>0.807737</td>\n",
       "      <td>-1.387538</td>\n",
       "      <td>0</td>\n",
       "      <td>0</td>\n",
       "      <td>1</td>\n",
       "      <td>1</td>\n",
       "      <td>0</td>\n",
       "      <td>0</td>\n",
       "    </tr>\n",
       "    <tr>\n",
       "      <th>4</th>\n",
       "      <td>0.388871</td>\n",
       "      <td>0.785728</td>\n",
       "      <td>2.063884</td>\n",
       "      <td>-0.365276</td>\n",
       "      <td>-0.911583</td>\n",
       "      <td>-1.041760</td>\n",
       "      <td>1</td>\n",
       "      <td>1</td>\n",
       "      <td>1</td>\n",
       "      <td>0</td>\n",
       "      <td>0</td>\n",
       "      <td>1</td>\n",
       "    </tr>\n",
       "  </tbody>\n",
       "</table>\n",
       "</div>"
      ],
      "text/plain": [
       "        Age   Balance  CreditScore  EstimatedSalary  NumOfProducts    Tenure  \\\n",
       "0  0.293517 -1.225848    -0.326221         0.021886      -0.911583 -1.041760   \n",
       "1  0.198164  0.117350    -0.440036         0.216534      -0.911583 -1.387538   \n",
       "2  0.293517  1.333053    -1.536794         0.240687       2.527057  1.032908   \n",
       "3  0.007457 -1.225848     0.501521        -0.108918       0.807737 -1.387538   \n",
       "4  0.388871  0.785728     2.063884        -0.365276      -0.911583 -1.041760   \n",
       "\n",
       "   HasCrCard  IsActiveMember  Gender_Female  Geography_France  \\\n",
       "0          1               1              1                 1   \n",
       "1          0               1              1                 0   \n",
       "2          1               0              1                 1   \n",
       "3          0               0              1                 1   \n",
       "4          1               1              1                 0   \n",
       "\n",
       "   Geography_Germany  Geography_Spain  \n",
       "0                  0                0  \n",
       "1                  0                1  \n",
       "2                  0                0  \n",
       "3                  0                0  \n",
       "4                  0                1  "
      ]
     },
     "execution_count": 89,
     "metadata": {},
     "output_type": "execute_result"
    }
   ],
   "source": [
    "x = pd.concat([pred_num, pred_cat], axis = 1)\n",
    "x.head()"
   ]
  },
  {
   "cell_type": "code",
   "execution_count": 90,
   "metadata": {},
   "outputs": [],
   "source": [
    "y = df['Exited']"
   ]
  },
  {
   "cell_type": "markdown",
   "metadata": {},
   "source": [
    "## **Correlation**"
   ]
  },
  {
   "cell_type": "code",
   "execution_count": 92,
   "metadata": {},
   "outputs": [
    {
     "data": {
      "text/html": [
       "<div>\n",
       "<style scoped>\n",
       "    .dataframe tbody tr th:only-of-type {\n",
       "        vertical-align: middle;\n",
       "    }\n",
       "\n",
       "    .dataframe tbody tr th {\n",
       "        vertical-align: top;\n",
       "    }\n",
       "\n",
       "    .dataframe thead th {\n",
       "        text-align: right;\n",
       "    }\n",
       "</style>\n",
       "<table border=\"1\" class=\"dataframe\">\n",
       "  <thead>\n",
       "    <tr style=\"text-align: right;\">\n",
       "      <th></th>\n",
       "      <th>Age</th>\n",
       "      <th>Balance</th>\n",
       "      <th>CreditScore</th>\n",
       "      <th>EstimatedSalary</th>\n",
       "      <th>NumOfProducts</th>\n",
       "      <th>Tenure</th>\n",
       "      <th>HasCrCard</th>\n",
       "      <th>IsActiveMember</th>\n",
       "      <th>Gender_Female</th>\n",
       "      <th>Geography_France</th>\n",
       "      <th>Geography_Germany</th>\n",
       "      <th>Geography_Spain</th>\n",
       "    </tr>\n",
       "  </thead>\n",
       "  <tbody>\n",
       "    <tr>\n",
       "      <th>Age</th>\n",
       "      <td>1.000000</td>\n",
       "      <td>0.028308</td>\n",
       "      <td>0.003965</td>\n",
       "      <td>0.007201</td>\n",
       "      <td>0.030680</td>\n",
       "      <td>0.009997</td>\n",
       "      <td>0.011721</td>\n",
       "      <td>0.085472</td>\n",
       "      <td>0.027544</td>\n",
       "      <td>0.039208</td>\n",
       "      <td>0.046897</td>\n",
       "      <td>0.001685</td>\n",
       "    </tr>\n",
       "    <tr>\n",
       "      <th>Balance</th>\n",
       "      <td>0.028308</td>\n",
       "      <td>1.000000</td>\n",
       "      <td>0.006268</td>\n",
       "      <td>0.012797</td>\n",
       "      <td>0.304180</td>\n",
       "      <td>0.012254</td>\n",
       "      <td>0.014858</td>\n",
       "      <td>0.010084</td>\n",
       "      <td>0.012087</td>\n",
       "      <td>0.231329</td>\n",
       "      <td>0.401110</td>\n",
       "      <td>0.134892</td>\n",
       "    </tr>\n",
       "    <tr>\n",
       "      <th>CreditScore</th>\n",
       "      <td>0.003965</td>\n",
       "      <td>0.006268</td>\n",
       "      <td>1.000000</td>\n",
       "      <td>0.001384</td>\n",
       "      <td>0.012238</td>\n",
       "      <td>0.000842</td>\n",
       "      <td>0.005458</td>\n",
       "      <td>0.025651</td>\n",
       "      <td>0.002857</td>\n",
       "      <td>0.008928</td>\n",
       "      <td>0.005538</td>\n",
       "      <td>0.004780</td>\n",
       "    </tr>\n",
       "    <tr>\n",
       "      <th>EstimatedSalary</th>\n",
       "      <td>0.007201</td>\n",
       "      <td>0.012797</td>\n",
       "      <td>0.001384</td>\n",
       "      <td>1.000000</td>\n",
       "      <td>0.014204</td>\n",
       "      <td>0.007784</td>\n",
       "      <td>0.009933</td>\n",
       "      <td>0.011421</td>\n",
       "      <td>0.008112</td>\n",
       "      <td>0.003332</td>\n",
       "      <td>0.010297</td>\n",
       "      <td>0.006482</td>\n",
       "    </tr>\n",
       "    <tr>\n",
       "      <th>NumOfProducts</th>\n",
       "      <td>0.030680</td>\n",
       "      <td>0.304180</td>\n",
       "      <td>0.012238</td>\n",
       "      <td>0.014204</td>\n",
       "      <td>1.000000</td>\n",
       "      <td>0.013444</td>\n",
       "      <td>0.003183</td>\n",
       "      <td>0.009612</td>\n",
       "      <td>0.021859</td>\n",
       "      <td>0.001230</td>\n",
       "      <td>0.010419</td>\n",
       "      <td>0.009039</td>\n",
       "    </tr>\n",
       "    <tr>\n",
       "      <th>Tenure</th>\n",
       "      <td>0.009997</td>\n",
       "      <td>0.012254</td>\n",
       "      <td>0.000842</td>\n",
       "      <td>0.007784</td>\n",
       "      <td>0.013444</td>\n",
       "      <td>1.000000</td>\n",
       "      <td>0.022583</td>\n",
       "      <td>0.028362</td>\n",
       "      <td>0.014733</td>\n",
       "      <td>0.002848</td>\n",
       "      <td>0.000567</td>\n",
       "      <td>0.003868</td>\n",
       "    </tr>\n",
       "    <tr>\n",
       "      <th>HasCrCard</th>\n",
       "      <td>0.011721</td>\n",
       "      <td>0.014858</td>\n",
       "      <td>0.005458</td>\n",
       "      <td>0.009933</td>\n",
       "      <td>0.003183</td>\n",
       "      <td>0.022583</td>\n",
       "      <td>1.000000</td>\n",
       "      <td>0.011866</td>\n",
       "      <td>0.005766</td>\n",
       "      <td>0.002467</td>\n",
       "      <td>0.010577</td>\n",
       "      <td>0.013480</td>\n",
       "    </tr>\n",
       "    <tr>\n",
       "      <th>IsActiveMember</th>\n",
       "      <td>0.085472</td>\n",
       "      <td>0.010084</td>\n",
       "      <td>0.025651</td>\n",
       "      <td>0.011421</td>\n",
       "      <td>0.009612</td>\n",
       "      <td>0.028362</td>\n",
       "      <td>0.011866</td>\n",
       "      <td>1.000000</td>\n",
       "      <td>0.022544</td>\n",
       "      <td>0.003317</td>\n",
       "      <td>0.020486</td>\n",
       "      <td>0.016732</td>\n",
       "    </tr>\n",
       "    <tr>\n",
       "      <th>Gender_Female</th>\n",
       "      <td>0.027544</td>\n",
       "      <td>0.012087</td>\n",
       "      <td>0.002857</td>\n",
       "      <td>0.008112</td>\n",
       "      <td>0.021859</td>\n",
       "      <td>0.014733</td>\n",
       "      <td>0.005766</td>\n",
       "      <td>0.022544</td>\n",
       "      <td>1.000000</td>\n",
       "      <td>0.006772</td>\n",
       "      <td>0.024628</td>\n",
       "      <td>0.016889</td>\n",
       "    </tr>\n",
       "    <tr>\n",
       "      <th>Geography_France</th>\n",
       "      <td>0.039208</td>\n",
       "      <td>0.231329</td>\n",
       "      <td>0.008928</td>\n",
       "      <td>0.003332</td>\n",
       "      <td>0.001230</td>\n",
       "      <td>0.002848</td>\n",
       "      <td>0.002467</td>\n",
       "      <td>0.003317</td>\n",
       "      <td>0.006772</td>\n",
       "      <td>1.000000</td>\n",
       "      <td>0.580359</td>\n",
       "      <td>0.575418</td>\n",
       "    </tr>\n",
       "    <tr>\n",
       "      <th>Geography_Germany</th>\n",
       "      <td>0.046897</td>\n",
       "      <td>0.401110</td>\n",
       "      <td>0.005538</td>\n",
       "      <td>0.010297</td>\n",
       "      <td>0.010419</td>\n",
       "      <td>0.000567</td>\n",
       "      <td>0.010577</td>\n",
       "      <td>0.020486</td>\n",
       "      <td>0.024628</td>\n",
       "      <td>0.580359</td>\n",
       "      <td>1.000000</td>\n",
       "      <td>0.332084</td>\n",
       "    </tr>\n",
       "    <tr>\n",
       "      <th>Geography_Spain</th>\n",
       "      <td>0.001685</td>\n",
       "      <td>0.134892</td>\n",
       "      <td>0.004780</td>\n",
       "      <td>0.006482</td>\n",
       "      <td>0.009039</td>\n",
       "      <td>0.003868</td>\n",
       "      <td>0.013480</td>\n",
       "      <td>0.016732</td>\n",
       "      <td>0.016889</td>\n",
       "      <td>0.575418</td>\n",
       "      <td>0.332084</td>\n",
       "      <td>1.000000</td>\n",
       "    </tr>\n",
       "  </tbody>\n",
       "</table>\n",
       "</div>"
      ],
      "text/plain": [
       "                        Age   Balance  CreditScore  EstimatedSalary  \\\n",
       "Age                1.000000  0.028308     0.003965         0.007201   \n",
       "Balance            0.028308  1.000000     0.006268         0.012797   \n",
       "CreditScore        0.003965  0.006268     1.000000         0.001384   \n",
       "EstimatedSalary    0.007201  0.012797     0.001384         1.000000   \n",
       "NumOfProducts      0.030680  0.304180     0.012238         0.014204   \n",
       "Tenure             0.009997  0.012254     0.000842         0.007784   \n",
       "HasCrCard          0.011721  0.014858     0.005458         0.009933   \n",
       "IsActiveMember     0.085472  0.010084     0.025651         0.011421   \n",
       "Gender_Female      0.027544  0.012087     0.002857         0.008112   \n",
       "Geography_France   0.039208  0.231329     0.008928         0.003332   \n",
       "Geography_Germany  0.046897  0.401110     0.005538         0.010297   \n",
       "Geography_Spain    0.001685  0.134892     0.004780         0.006482   \n",
       "\n",
       "                   NumOfProducts    Tenure  HasCrCard  IsActiveMember  \\\n",
       "Age                     0.030680  0.009997   0.011721        0.085472   \n",
       "Balance                 0.304180  0.012254   0.014858        0.010084   \n",
       "CreditScore             0.012238  0.000842   0.005458        0.025651   \n",
       "EstimatedSalary         0.014204  0.007784   0.009933        0.011421   \n",
       "NumOfProducts           1.000000  0.013444   0.003183        0.009612   \n",
       "Tenure                  0.013444  1.000000   0.022583        0.028362   \n",
       "HasCrCard               0.003183  0.022583   1.000000        0.011866   \n",
       "IsActiveMember          0.009612  0.028362   0.011866        1.000000   \n",
       "Gender_Female           0.021859  0.014733   0.005766        0.022544   \n",
       "Geography_France        0.001230  0.002848   0.002467        0.003317   \n",
       "Geography_Germany       0.010419  0.000567   0.010577        0.020486   \n",
       "Geography_Spain         0.009039  0.003868   0.013480        0.016732   \n",
       "\n",
       "                   Gender_Female  Geography_France  Geography_Germany  \\\n",
       "Age                     0.027544          0.039208           0.046897   \n",
       "Balance                 0.012087          0.231329           0.401110   \n",
       "CreditScore             0.002857          0.008928           0.005538   \n",
       "EstimatedSalary         0.008112          0.003332           0.010297   \n",
       "NumOfProducts           0.021859          0.001230           0.010419   \n",
       "Tenure                  0.014733          0.002848           0.000567   \n",
       "HasCrCard               0.005766          0.002467           0.010577   \n",
       "IsActiveMember          0.022544          0.003317           0.020486   \n",
       "Gender_Female           1.000000          0.006772           0.024628   \n",
       "Geography_France        0.006772          1.000000           0.580359   \n",
       "Geography_Germany       0.024628          0.580359           1.000000   \n",
       "Geography_Spain         0.016889          0.575418           0.332084   \n",
       "\n",
       "                   Geography_Spain  \n",
       "Age                       0.001685  \n",
       "Balance                   0.134892  \n",
       "CreditScore               0.004780  \n",
       "EstimatedSalary           0.006482  \n",
       "NumOfProducts             0.009039  \n",
       "Tenure                    0.003868  \n",
       "HasCrCard                 0.013480  \n",
       "IsActiveMember            0.016732  \n",
       "Gender_Female             0.016889  \n",
       "Geography_France          0.575418  \n",
       "Geography_Germany         0.332084  \n",
       "Geography_Spain           1.000000  "
      ]
     },
     "execution_count": 92,
     "metadata": {},
     "output_type": "execute_result"
    }
   ],
   "source": [
    "corrtest = x.corr().abs()\n",
    "corrtest"
   ]
  },
  {
   "cell_type": "markdown",
   "metadata": {},
   "source": [
    "## **Splitting Train-Test Data**"
   ]
  },
  {
   "cell_type": "code",
   "execution_count": 95,
   "metadata": {},
   "outputs": [
    {
     "data": {
      "text/plain": [
       "Exited\n",
       "0    7963\n",
       "1    2037\n",
       "Name: count, dtype: int64"
      ]
     },
     "execution_count": 95,
     "metadata": {},
     "output_type": "execute_result"
    }
   ],
   "source": [
    "y.value_counts()"
   ]
  },
  {
   "cell_type": "code",
   "execution_count": 96,
   "metadata": {},
   "outputs": [],
   "source": [
    "from sklearn.model_selection import train_test_split\n",
    "\n",
    "x_train, x_test, y_train, y_test = train_test_split(x, y, test_size=0.3, stratify=y, random_state=30)"
   ]
  },
  {
   "cell_type": "markdown",
   "metadata": {},
   "source": [
    "# **Modeling**\n",
    "\n",
    "1. Logistic Regression\n",
    "2. Gradient Boosting\n",
    "3. Random Forest"
   ]
  },
  {
   "cell_type": "markdown",
   "metadata": {},
   "source": [
    "## Logistic Regression"
   ]
  },
  {
   "cell_type": "code",
   "execution_count": 97,
   "metadata": {},
   "outputs": [],
   "source": [
    "penalty = ['l2']\n",
    "tol = [0.001, 0.0001, 0.00001]\n",
    "C = [100.0, 10.0, 1.00, 0.1, 0.01, 0.001]\n",
    "fit_intercept = [True, False]\n",
    "intercept_scaling = [1.0, 0.75, 0.5, 0.25]\n",
    "class_weight = ['balanced', None]\n",
    "solver = ['newton-cg', 'sag', 'lbfgs', 'saga']\n",
    "max_iter=[14000]\n",
    "param_distributions = dict(penalty=penalty, tol=tol, C=C, fit_intercept=fit_intercept, intercept_scaling=intercept_scaling,\n",
    "                  class_weight=class_weight, solver=solver, max_iter=max_iter)"
   ]
  },
  {
   "cell_type": "code",
   "execution_count": 98,
   "metadata": {},
   "outputs": [],
   "source": [
    "from sklearn.model_selection import GridSearchCV"
   ]
  },
  {
   "cell_type": "code",
   "execution_count": 99,
   "metadata": {},
   "outputs": [
    {
     "name": "stdout",
     "output_type": "stream",
     "text": [
      "Best: 0.711773 using {'C': 0.001, 'class_weight': 'balanced', 'fit_intercept': False, 'intercept_scaling': 1.0, 'max_iter': 14000, 'penalty': 'l2', 'solver': 'newton-cg', 'tol': 0.001}\n",
      "Execution time: 195.42001390457153 s\n"
     ]
    }
   ],
   "source": [
    "import time\n",
    "\n",
    "#cv = cross validation\n",
    "logreg = LogisticRegression()\n",
    "grid = GridSearchCV(estimator=logreg, param_grid = param_distributions , scoring = 'recall', cv = 5, n_jobs=-1)\n",
    "\n",
    "start_time = time.time()\n",
    "grid_result = grid.fit(x_train, y_train)\n",
    "# Summarize results\n",
    "print(\"Best: %f using %s\" % (grid_result.best_score_, grid_result.best_params_))\n",
    "print(\"Execution time: \" + str((time.time() - start_time)) + ' s')"
   ]
  },
  {
   "cell_type": "markdown",
   "metadata": {},
   "source": [
    "## Gradient Boosting"
   ]
  },
  {
   "cell_type": "code",
   "execution_count": 100,
   "metadata": {},
   "outputs": [],
   "source": [
    "from xgboost import XGBClassifier\n",
    "from sklearn.metrics import confusion_matrix, classification_report, make_scorer,accuracy_score,precision_score,recall_score,f1_score"
   ]
  },
  {
   "cell_type": "code",
   "execution_count": 101,
   "metadata": {},
   "outputs": [],
   "source": [
    "gbparameter = {'max_depth':[5,10,15],'gamma':[0.0,0.1,0.2,0.3], 'n_estimators':[25,50,75,100],'learning_rate':[0.05,0.1,0.2,0.3], 'scale_pos_weight':[1,3]}\n",
    "score = {'accuracy':make_scorer(accuracy_score), 'precision':make_scorer(precision_score),'recall':make_scorer(recall_score), 'f1':make_scorer(f1_score)}"
   ]
  },
  {
   "cell_type": "code",
   "execution_count": 102,
   "metadata": {},
   "outputs": [],
   "source": [
    "GB_Grid = GridSearchCV(XGBClassifier(), gbparameter, cv=5,refit='recall', verbose=0, n_jobs=-1, scoring=score)"
   ]
  },
  {
   "cell_type": "code",
   "execution_count": 103,
   "metadata": {},
   "outputs": [
    {
     "name": "stdout",
     "output_type": "stream",
     "text": [
      "Best: 0.681615 using {'gamma': 0.3, 'learning_rate': 0.2, 'max_depth': 5, 'n_estimators': 25, 'scale_pos_weight': 3}\n",
      "Execution time: 63.99067211151123 s\n"
     ]
    }
   ],
   "source": [
    "start_time = time.time()\n",
    "GB_result = GB_Grid.fit(x_train, y_train)\n",
    "# Summarize results\n",
    "print(\"Best: %f using %s\" % (GB_result.best_score_, GB_result.best_params_))\n",
    "print(\"Execution time: \" + str((time.time() - start_time)) + ' s')"
   ]
  },
  {
   "cell_type": "markdown",
   "metadata": {},
   "source": [
    "## Random Forest"
   ]
  },
  {
   "cell_type": "code",
   "execution_count": 104,
   "metadata": {},
   "outputs": [],
   "source": [
    "from sklearn.ensemble import RandomForestClassifier"
   ]
  },
  {
   "cell_type": "code",
   "execution_count": 105,
   "metadata": {},
   "outputs": [],
   "source": [
    "parameter = {'max_depth':[5,10,15,20],'max_features':['auto','sqrt','log2'], 'n_estimators':[25,50,75,100,125],'min_samples_split':[2,3,5,7]}\n",
    "score = {'accuracy':make_scorer(accuracy_score), 'precision':make_scorer(precision_score),'recall':make_scorer(recall_score), 'f1':make_scorer(f1_score)}"
   ]
  },
  {
   "cell_type": "code",
   "execution_count": 106,
   "metadata": {},
   "outputs": [],
   "source": [
    "RF_Grid = GridSearchCV(RandomForestClassifier(), parameter, cv=5,refit='recall', verbose=0, n_jobs=-1, scoring=score)"
   ]
  },
  {
   "cell_type": "code",
   "execution_count": 107,
   "metadata": {},
   "outputs": [
    {
     "name": "stderr",
     "output_type": "stream",
     "text": [
      "d:\\Data Analisis\\myenv\\Lib\\site-packages\\sklearn\\model_selection\\_validation.py:542: FitFailedWarning: \n",
      "400 fits failed out of a total of 1200.\n",
      "The score on these train-test partitions for these parameters will be set to nan.\n",
      "If these failures are not expected, you can try to debug them by setting error_score='raise'.\n",
      "\n",
      "Below are more details about the failures:\n",
      "--------------------------------------------------------------------------------\n",
      "199 fits failed with the following error:\n",
      "Traceback (most recent call last):\n",
      "  File \"d:\\Data Analisis\\myenv\\Lib\\site-packages\\sklearn\\model_selection\\_validation.py\", line 890, in _fit_and_score\n",
      "    estimator.fit(X_train, y_train, **fit_params)\n",
      "  File \"d:\\Data Analisis\\myenv\\Lib\\site-packages\\sklearn\\base.py\", line 1344, in wrapper\n",
      "    estimator._validate_params()\n",
      "  File \"d:\\Data Analisis\\myenv\\Lib\\site-packages\\sklearn\\base.py\", line 666, in _validate_params\n",
      "    validate_parameter_constraints(\n",
      "  File \"d:\\Data Analisis\\myenv\\Lib\\site-packages\\sklearn\\utils\\_param_validation.py\", line 95, in validate_parameter_constraints\n",
      "    raise InvalidParameterError(\n",
      "sklearn.utils._param_validation.InvalidParameterError: The 'max_features' parameter of RandomForestClassifier must be an int in the range [1, inf), a float in the range (0.0, 1.0], a str among {'log2', 'sqrt'} or None. Got 'auto' instead.\n",
      "\n",
      "--------------------------------------------------------------------------------\n",
      "201 fits failed with the following error:\n",
      "Traceback (most recent call last):\n",
      "  File \"d:\\Data Analisis\\myenv\\Lib\\site-packages\\sklearn\\model_selection\\_validation.py\", line 890, in _fit_and_score\n",
      "    estimator.fit(X_train, y_train, **fit_params)\n",
      "  File \"d:\\Data Analisis\\myenv\\Lib\\site-packages\\sklearn\\base.py\", line 1344, in wrapper\n",
      "    estimator._validate_params()\n",
      "  File \"d:\\Data Analisis\\myenv\\Lib\\site-packages\\sklearn\\base.py\", line 666, in _validate_params\n",
      "    validate_parameter_constraints(\n",
      "  File \"d:\\Data Analisis\\myenv\\Lib\\site-packages\\sklearn\\utils\\_param_validation.py\", line 95, in validate_parameter_constraints\n",
      "    raise InvalidParameterError(\n",
      "sklearn.utils._param_validation.InvalidParameterError: The 'max_features' parameter of RandomForestClassifier must be an int in the range [1, inf), a float in the range (0.0, 1.0], a str among {'sqrt', 'log2'} or None. Got 'auto' instead.\n",
      "\n",
      "  warnings.warn(some_fits_failed_message, FitFailedWarning)\n",
      "d:\\Data Analisis\\myenv\\Lib\\site-packages\\sklearn\\model_selection\\_search.py:1051: UserWarning: One or more of the test scores are non-finite: [       nan        nan        nan        nan        nan        nan\n",
      "        nan        nan        nan        nan        nan        nan\n",
      "        nan        nan        nan        nan        nan        nan\n",
      "        nan        nan 0.84357143 0.84214286 0.84314286 0.84642857\n",
      " 0.84928571 0.84628571 0.847      0.84528571 0.84585714 0.84442857\n",
      " 0.84571429 0.844      0.84285714 0.84614286 0.848      0.84971429\n",
      " 0.84585714 0.84628571 0.84671429 0.84485714 0.84528571 0.84371429\n",
      " 0.84314286 0.84571429 0.84642857 0.85071429 0.84828571 0.845\n",
      " 0.84514286 0.84642857 0.84814286 0.84228571 0.84757143 0.843\n",
      " 0.84357143 0.84542857 0.84514286 0.846      0.84714286 0.84471429\n",
      "        nan        nan        nan        nan        nan        nan\n",
      "        nan        nan        nan        nan        nan        nan\n",
      "        nan        nan        nan        nan        nan        nan\n",
      "        nan        nan 0.86142857 0.86057143 0.86057143 0.86028571\n",
      " 0.861      0.85771429 0.86014286 0.86028571 0.86       0.86028571\n",
      " 0.86014286 0.86185714 0.86057143 0.86085714 0.86114286 0.86\n",
      " 0.86085714 0.86171429 0.86028571 0.86142857 0.85971429 0.85957143\n",
      " 0.85971429 0.86171429 0.86285714 0.86271429 0.85885714 0.86085714\n",
      " 0.859      0.86242857 0.85842857 0.86057143 0.86157143 0.86185714\n",
      " 0.86       0.85842857 0.85885714 0.862      0.86242857 0.86071429\n",
      "        nan        nan        nan        nan        nan        nan\n",
      "        nan        nan        nan        nan        nan        nan\n",
      "        nan        nan        nan        nan        nan        nan\n",
      "        nan        nan 0.85671429 0.861      0.86085714 0.86014286\n",
      " 0.86028571 0.85771429 0.85885714 0.85685714 0.86185714 0.861\n",
      " 0.86028571 0.85985714 0.86042857 0.85957143 0.85928571 0.86328571\n",
      " 0.85971429 0.86028571 0.86028571 0.86185714 0.856      0.859\n",
      " 0.86       0.85985714 0.85928571 0.85857143 0.861      0.859\n",
      " 0.858      0.86171429 0.85942857 0.85757143 0.86142857 0.86242857\n",
      " 0.86171429 0.86171429 0.86214286 0.85928571 0.86085714 0.86085714\n",
      "        nan        nan        nan        nan        nan        nan\n",
      "        nan        nan        nan        nan        nan        nan\n",
      "        nan        nan        nan        nan        nan        nan\n",
      "        nan        nan 0.85657143 0.85871429 0.85928571 0.85857143\n",
      " 0.85914286 0.85628571 0.86014286 0.85971429 0.86128571 0.85942857\n",
      " 0.85728571 0.85942857 0.85971429 0.86171429 0.86128571 0.86114286\n",
      " 0.86214286 0.85928571 0.86028571 0.86114286 0.85685714 0.85957143\n",
      " 0.85971429 0.86028571 0.86       0.85771429 0.85957143 0.86028571\n",
      " 0.86085714 0.86114286 0.85485714 0.85971429 0.86042857 0.85942857\n",
      " 0.86042857 0.86257143 0.86128571 0.85914286 0.86057143 0.86257143]\n",
      "  warnings.warn(\n",
      "d:\\Data Analisis\\myenv\\Lib\\site-packages\\sklearn\\model_selection\\_search.py:1051: UserWarning: One or more of the test scores are non-finite: [       nan        nan        nan        nan        nan        nan\n",
      "        nan        nan        nan        nan        nan        nan\n",
      "        nan        nan        nan        nan        nan        nan\n",
      "        nan        nan 0.83983227 0.86293516 0.85621815 0.84757501\n",
      " 0.86673003 0.84096731 0.84276354 0.84637687 0.85341969 0.86439649\n",
      " 0.83952745 0.83640479 0.86064323 0.85135629 0.8727767  0.85207689\n",
      " 0.85554644 0.84611731 0.85313747 0.86791948 0.84889135 0.84662075\n",
      " 0.8631896  0.85420944 0.86360242 0.84823298 0.85014063 0.849637\n",
      " 0.84998051 0.86897987 0.84952353 0.83795931 0.851563   0.86243445\n",
      " 0.86078692 0.833435   0.86108066 0.86196082 0.85401708 0.84670151\n",
      "        nan        nan        nan        nan        nan        nan\n",
      "        nan        nan        nan        nan        nan        nan\n",
      "        nan        nan        nan        nan        nan        nan\n",
      "        nan        nan 0.78843815 0.78264796 0.78294141 0.78038549\n",
      " 0.78777141 0.76922002 0.77898326 0.78441158 0.78329226 0.78737767\n",
      " 0.78280989 0.78482973 0.78429858 0.78718271 0.78913451 0.78151644\n",
      " 0.78873148 0.7899103  0.78009254 0.79315055 0.78291375 0.78974528\n",
      " 0.78637007 0.79083722 0.79932379 0.78775368 0.77869752 0.78741773\n",
      " 0.78162834 0.7988501  0.77303577 0.78201708 0.78685611 0.78953193\n",
      " 0.78509099 0.76916488 0.78245714 0.7943033  0.79501276 0.78742298\n",
      "        nan        nan        nan        nan        nan        nan\n",
      "        nan        nan        nan        nan        nan        nan\n",
      "        nan        nan        nan        nan        nan        nan\n",
      "        nan        nan 0.74129301 0.7657649  0.75792098 0.75730054\n",
      " 0.76123085 0.7449269  0.76070725 0.74364075 0.76470189 0.76552593\n",
      " 0.75760597 0.76222772 0.76343862 0.76091568 0.7591989  0.77745196\n",
      " 0.75890739 0.76253706 0.76309909 0.76873227 0.73691931 0.75271507\n",
      " 0.75939818 0.76211999 0.7567881  0.7487665  0.76160519 0.75946891\n",
      " 0.7547018  0.77005253 0.75710505 0.74791083 0.76647636 0.77315362\n",
      " 0.76898634 0.76515535 0.76993757 0.75928023 0.76846183 0.77140778\n",
      "        nan        nan        nan        nan        nan        nan\n",
      "        nan        nan        nan        nan        nan        nan\n",
      "        nan        nan        nan        nan        nan        nan\n",
      "        nan        nan 0.73664271 0.75049356 0.74457432 0.74985714\n",
      " 0.75077979 0.73460888 0.75349202 0.75526199 0.7618457  0.75382572\n",
      " 0.73926629 0.75624075 0.76039879 0.76758707 0.76744899 0.76516948\n",
      " 0.76819517 0.75680149 0.75931376 0.76532527 0.74175774 0.75440888\n",
      " 0.74701007 0.75923244 0.75643862 0.7413782  0.75026246 0.75605078\n",
      " 0.76040602 0.76205642 0.73717984 0.75256414 0.76195066 0.75714501\n",
      " 0.761204   0.76391959 0.7612341  0.75713882 0.76212212 0.76869208]\n",
      "  warnings.warn(\n",
      "d:\\Data Analisis\\myenv\\Lib\\site-packages\\sklearn\\model_selection\\_search.py:1051: UserWarning: One or more of the test scores are non-finite: [       nan        nan        nan        nan        nan        nan\n",
      "        nan        nan        nan        nan        nan        nan\n",
      "        nan        nan        nan        nan        nan        nan\n",
      "        nan        nan 0.28680898 0.26719912 0.27769108 0.30014722\n",
      " 0.30714268 0.3029297  0.30643357 0.29453564 0.29315176 0.27979389\n",
      " 0.30016685 0.29170163 0.27278616 0.29663354 0.29731076 0.3162704\n",
      " 0.29242056 0.30011532 0.29941357 0.28052018 0.29383634 0.28263281\n",
      " 0.27346829 0.29243283 0.29242792 0.32536621 0.31135321 0.2903521\n",
      " 0.2910146  0.28962091 0.31067108 0.27982824 0.30365109 0.27140228\n",
      " 0.27700405 0.3021936  0.28751564 0.29033493 0.30084161 0.29033002\n",
      "        nan        nan        nan        nan        nan        nan\n",
      "        nan        nan        nan        nan        nan        nan\n",
      "        nan        nan        nan        nan        nan        nan\n",
      "        nan        nan 0.43687891 0.43757821 0.43688873 0.43758066\n",
      " 0.43548767 0.43126978 0.43757821 0.4340768  0.43267329 0.43127224\n",
      " 0.4340768  0.44460066 0.43547786 0.43478346 0.43477855 0.43407925\n",
      " 0.43337014 0.43828242 0.43759539 0.43337995 0.43126978 0.4235603\n",
      " 0.42777328 0.43688382 0.43688136 0.44670102 0.42916697 0.4340768\n",
      " 0.42777083 0.43408171 0.43196418 0.43758557 0.44038768 0.43969329\n",
      " 0.43126978 0.43547786 0.42566802 0.43548522 0.43828242 0.43337259\n",
      "        nan        nan        nan        nan        nan        nan\n",
      "        nan        nan        nan        nan        nan        nan\n",
      "        nan        nan        nan        nan        nan        nan\n",
      "        nan        nan 0.45579683 0.45791682 0.46561404 0.46211262\n",
      " 0.45790701 0.45861121 0.44879647 0.45371611 0.46493191 0.45791191\n",
      " 0.46281192 0.45440559 0.4565084  0.45300699 0.45300454 0.46142314\n",
      " 0.45651576 0.45650595 0.45581646 0.46071648 0.45651576 0.45861121\n",
      " 0.45791682 0.45368912 0.4565084  0.46002208 0.46281683 0.45019752\n",
      " 0.44879156 0.45861367 0.4565035  0.45370384 0.46072629 0.45932278\n",
      " 0.45932278 0.46352349 0.46282419 0.45300699 0.45370139 0.45090418\n",
      "        nan        nan        nan        nan        nan        nan\n",
      "        nan        nan        nan        nan        nan        nan\n",
      "        nan        nan        nan        nan        nan        nan\n",
      "        nan        nan 0.46072874 0.45860385 0.47052141 0.45930561\n",
      " 0.46212489 0.46211262 0.46632806 0.4614305  0.4642277  0.46000245\n",
      " 0.46352595 0.45722979 0.4551098  0.46142068 0.45791437 0.46212489\n",
      " 0.46353086 0.45651086 0.46001472 0.45931788 0.45652067 0.46142068\n",
      " 0.47123298 0.46071648 0.46212489 0.46351859 0.46702736 0.4635284\n",
      " 0.46280947 0.46281438 0.44878174 0.4642277  0.45791927 0.4565035\n",
      " 0.45931051 0.47123543 0.46492946 0.45440069 0.45931542 0.46633051]\n",
      "  warnings.warn(\n",
      "d:\\Data Analisis\\myenv\\Lib\\site-packages\\sklearn\\model_selection\\_search.py:1051: UserWarning: One or more of the test scores are non-finite: [       nan        nan        nan        nan        nan        nan\n",
      "        nan        nan        nan        nan        nan        nan\n",
      "        nan        nan        nan        nan        nan        nan\n",
      "        nan        nan 0.42575554 0.40783926 0.41891442 0.44256156\n",
      " 0.45299576 0.44337482 0.44859973 0.43669735 0.43602256 0.42244743\n",
      " 0.44087835 0.43199092 0.41389353 0.43930068 0.44286034 0.45975628\n",
      " 0.43511097 0.44233164 0.44264919 0.42358152 0.43616166 0.42284201\n",
      " 0.4147644  0.43539213 0.43661556 0.46973691 0.45524367 0.43244037\n",
      " 0.43278434 0.43384203 0.45470025 0.41813569 0.44710345 0.41211625\n",
      " 0.41893001 0.4409761  0.43040287 0.43406825 0.4443709  0.43206863\n",
      "        nan        nan        nan        nan        nan        nan\n",
      "        nan        nan        nan        nan        nan        nan\n",
      "        nan        nan        nan        nan        nan        nan\n",
      "        nan        nan 0.56163981 0.56091711 0.56071172 0.56034037\n",
      " 0.560429   0.55215777 0.55973358 0.558397   0.55719199 0.5568061\n",
      " 0.55818817 0.56680838 0.5597533  0.55979623 0.5602033  0.55770019\n",
      " 0.55886669 0.56324973 0.5601977  0.56006123 0.55582715 0.55088115\n",
      " 0.55370157 0.56253713 0.56457183 0.5696872  0.55284972 0.55924857\n",
      " 0.55259063 0.56229914 0.55383018 0.56099364 0.56429517 0.56447715\n",
      " 0.55624869 0.55601714 0.55105152 0.56228206 0.56457684 0.55880004\n",
      "        nan        nan        nan        nan        nan        nan\n",
      "        nan        nan        nan        nan        nan        nan\n",
      "        nan        nan        nan        nan        nan        nan\n",
      "        nan        nan 0.56406701 0.57265153 0.57620848 0.57336029\n",
      " 0.57128934 0.56742517 0.56397595 0.56341361 0.57803707 0.57262134\n",
      " 0.57419468 0.56901365 0.57078761 0.56767164 0.56703188 0.57875841\n",
      " 0.56976305 0.57078606 0.570558   0.57562181 0.56321079 0.56968434\n",
      " 0.57103978 0.56817546 0.56886562 0.56975462 0.57513406 0.56507176\n",
      " 0.562643   0.57416193 0.56902512 0.56440586 0.57503492 0.57598506\n",
      " 0.57476255 0.57711683 0.57717033 0.56707717 0.57023347 0.568721\n",
      "        nan        nan        nan        nan        nan        nan\n",
      "        nan        nan        nan        nan        nan        nan\n",
      "        nan        nan        nan        nan        nan        nan\n",
      "        nan        nan 0.5662976  0.56891724 0.57629616 0.56926372\n",
      " 0.57175015 0.56672817 0.57584634 0.57244565 0.5765965  0.5709324\n",
      " 0.56954118 0.56964091 0.56875976 0.57568942 0.57326575 0.57554288\n",
      " 0.57774    0.56884016 0.57246423 0.57391579 0.56473134 0.57208998\n",
      " 0.57740438 0.57303756 0.57351628 0.56980096 0.57497611 0.57448132\n",
      " 0.57497089 0.57553611 0.55676628 0.57399877 0.57182032 0.56899504\n",
      " 0.57250815 0.58207222 0.57686642 0.56761708 0.57259543 0.58022157]\n",
      "  warnings.warn(\n"
     ]
    },
    {
     "name": "stdout",
     "output_type": "stream",
     "text": [
      "Best: 0.471235 using {'max_depth': 20, 'max_features': 'log2', 'min_samples_split': 7, 'n_estimators': 25}\n",
      "Execution time: 59.04085922241211 s\n"
     ]
    }
   ],
   "source": [
    "start_time = time.time()\n",
    "RF_result = RF_Grid.fit(x_train, y_train)\n",
    "# Summarize results\n",
    "print(\"Best: %f using %s\" % (RF_result.best_score_, RF_result.best_params_))\n",
    "print(\"Execution time: \" + str((time.time() - start_time)) + ' s')"
   ]
  },
  {
   "cell_type": "markdown",
   "metadata": {},
   "source": [
    "# **Evaluation**"
   ]
  },
  {
   "cell_type": "markdown",
   "metadata": {},
   "source": [
    "## Logistic Regression"
   ]
  },
  {
   "cell_type": "code",
   "execution_count": 108,
   "metadata": {},
   "outputs": [],
   "source": [
    "y_pred =grid.predict(x_test)"
   ]
  },
  {
   "cell_type": "code",
   "execution_count": 109,
   "metadata": {},
   "outputs": [
    {
     "name": "stdout",
     "output_type": "stream",
     "text": [
      "Accuracy: 0.7013333333333334\n",
      "Recall: 0.690671031096563\n"
     ]
    },
    {
     "data": {
      "text/plain": [
       "<function sklearn.metrics.cluster._supervised.completeness_score(labels_true, labels_pred)>"
      ]
     },
     "execution_count": 109,
     "metadata": {},
     "output_type": "execute_result"
    }
   ],
   "source": [
    "from sklearn import metrics\n",
    "print(\"Accuracy:\",metrics.accuracy_score(y_test, y_pred))\n",
    "print(\"Recall:\",metrics.recall_score(y_test, y_pred))\n",
    "metrics.completeness_score"
   ]
  },
  {
   "cell_type": "code",
   "execution_count": 110,
   "metadata": {},
   "outputs": [
    {
     "data": {
      "image/png": "[encoded data removed]",
      "text/plain": [
       "<Figure size 1500x500 with 1 Axes>"
      ]
     },
     "metadata": {},
     "output_type": "display_data"
    }
   ],
   "source": [
    "from jcopml.feature_importance import mean_score_decrease\n",
    "df_imp1 = mean_score_decrease(x_train, y_train, grid, plot= True, topk=20)"
   ]
  },
  {
   "cell_type": "markdown",
   "metadata": {},
   "source": [
    "## Gradient Boosting"
   ]
  },
  {
   "cell_type": "code",
   "execution_count": 111,
   "metadata": {},
   "outputs": [],
   "source": [
    "y1_pred =GB_Grid.predict(x_test)"
   ]
  },
  {
   "cell_type": "code",
   "execution_count": 112,
   "metadata": {},
   "outputs": [
    {
     "name": "stdout",
     "output_type": "stream",
     "text": [
      "Accuracy: 0.837\n",
      "Recall: 0.6808510638297872\n"
     ]
    },
    {
     "data": {
      "text/plain": [
       "<function sklearn.metrics.cluster._supervised.completeness_score(labels_true, labels_pred)>"
      ]
     },
     "execution_count": 112,
     "metadata": {},
     "output_type": "execute_result"
    }
   ],
   "source": [
    "from sklearn import metrics\n",
    "print(\"Accuracy:\",metrics.accuracy_score(y_test, y1_pred))\n",
    "print(\"Recall:\",metrics.recall_score(y_test, y1_pred))\n",
    "metrics.completeness_score"
   ]
  },
  {
   "cell_type": "code",
   "execution_count": 113,
   "metadata": {},
   "outputs": [
    {
     "data": {
      "image/png": "[encoded data removed]",
      "text/plain": [
       "<Figure size 1500x500 with 1 Axes>"
      ]
     },
     "metadata": {},
     "output_type": "display_data"
    }
   ],
   "source": [
    "df_imp2 = mean_score_decrease(x_train, y_train, GB_Grid, plot= True, topk=20)"
   ]
  },
  {
   "cell_type": "markdown",
   "metadata": {},
   "source": [
    "## Random Forest"
   ]
  },
  {
   "cell_type": "code",
   "execution_count": 114,
   "metadata": {},
   "outputs": [],
   "source": [
    "y2_pred =RF_Grid.predict(x_test)"
   ]
  },
  {
   "cell_type": "code",
   "execution_count": 115,
   "metadata": {},
   "outputs": [
    {
     "name": "stdout",
     "output_type": "stream",
     "text": [
      "Accuracy: 0.8633333333333333\n",
      "Recall: 0.45499181669394434\n"
     ]
    },
    {
     "data": {
      "text/plain": [
       "<function sklearn.metrics.cluster._supervised.completeness_score(labels_true, labels_pred)>"
      ]
     },
     "execution_count": 115,
     "metadata": {},
     "output_type": "execute_result"
    }
   ],
   "source": [
    "from sklearn import metrics\n",
    "print(\"Accuracy:\",metrics.accuracy_score(y_test, y2_pred))\n",
    "print(\"Recall:\",metrics.recall_score(y_test, y2_pred))\n",
    "metrics.completeness_score"
   ]
  },
  {
   "cell_type": "code",
   "execution_count": 116,
   "metadata": {},
   "outputs": [
    {
     "data": {
      "image/png": "[encoded data removed]",
      "text/plain": [
       "<Figure size 1500x500 with 1 Axes>"
      ]
     },
     "metadata": {},
     "output_type": "display_data"
    }
   ],
   "source": [
    "df_imp3 = mean_score_decrease(x_train, y_train, RF_Grid, plot= True, topk=20)"
   ]
  },
  {
   "cell_type": "markdown",
   "metadata": {},
   "source": [
    "## **Conclusion**"
   ]
  },
  {
   "cell_type": "markdown",
   "metadata": {},
   "source": [
    "All models have accuracy above 70%. However, one model has a recall of 40% while the other is closer to 70%. Even so, because 2/3 of the models have a recall of almost 70%, it can be said that clients who actually leave the bank can be predicted as clients who leave the bank. So that in this iteration of model development, the desired objectives can be achieved."
   ]
  },
  {
   "cell_type": "markdown",
   "metadata": {},
   "source": [
    "Future development solutions that can be implemented are as follows:\n",
    "\n",
    "1. Increase the sample (number of customers assuming the currently available dataset is not the total customer population)\n",
    "2. Oversampling the minority class (leaving the bank)\n",
    "3. Try variations of other variables (adding new variables, or removing variables that have a low importance value in the last result)\n",
    "5. Try to expand the combination of hyperparameters in model building\n",
    "6. Try other supervised machine learning algorithms"
   ]
  }
 ],
 "metadata": {
  "kernelspec": {
   "display_name": "base",
   "language": "python",
   "name": "python3"
  },
  "language_info": {
   "codemirror_mode": {
    "name": "ipython",
    "version": 3
   },
   "file_extension": ".py",
   "mimetype": "text/x-python",
   "name": "python",
   "nbconvert_exporter": "python",
   "pygments_lexer": "ipython3",
   "version": "3.12.1"
  }
 },
 "nbformat": 4,
 "nbformat_minor": 2
}
